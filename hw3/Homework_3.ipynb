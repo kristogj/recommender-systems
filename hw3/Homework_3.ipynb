{
 "cells": [
  {
   "cell_type": "markdown",
   "metadata": {},
   "source": [
    "# CSE 258, Fall 2019: Homework 3\n",
    "**You’ll probably want to implement your solution by modifying the baseline code provided.**   \n",
    "Files: \n",
    "* http://cseweb.ucsd.edu/classes/fa19/cse258-a/files/assignment1.tar.gz   \n",
    "\n",
    "Kaggle:\n",
    "* https://inclass.kaggle.com/c/cse158258-fa19-read-prediction\n",
    "* (258 only) https://inclass.kaggle.com/c/cse258-fa19-rating-prediction"
   ]
  },
  {
   "cell_type": "markdown",
   "metadata": {},
   "source": [
    "# Tasks (Read prediction)   \n",
    "Since we don’t have access to the test labels, we’ll need to simulate validation/test sets of our own.    \n",
    "So, let’s split the training data (‘train Interactions.csv.gz’) as follows:\n",
    "1. Reviews 1-190,000 for training\n",
    "2. Reviews 190,001-200,000 for validation\n",
    "3. Upload to Kaggle for testing only when you have a good model on the validation set. This will save you time (since Kaggle can take several minutes to return results), and prevent you from exceeding your daily submission limit."
   ]
  },
  {
   "cell_type": "code",
   "execution_count": 355,
   "metadata": {},
   "outputs": [],
   "source": [
    "import gzip\n",
    "from collections import defaultdict\n",
    "import random\n",
    "import numpy as np\n",
    "import matplotlib.pyplot as plt"
   ]
  },
  {
   "cell_type": "code",
   "execution_count": 356,
   "metadata": {},
   "outputs": [],
   "source": [
    "def readGz(path):\n",
    "    for l in gzip.open(path, 'rt'):\n",
    "        yield eval(l)\n",
    "    \n",
    "def readCSV(path):\n",
    "    f = gzip.open(path, 'rt')\n",
    "    header = f.readline()\n",
    "    for l in f:\n",
    "        yield l.strip().split(',')"
   ]
  },
  {
   "cell_type": "code",
   "execution_count": 357,
   "metadata": {},
   "outputs": [],
   "source": [
    "data = [line[:2] + [1] for line in readCSV(\"train_Interactions.csv.gz\")] # 1 is the label saying it is read."
   ]
  },
  {
   "cell_type": "markdown",
   "metadata": {},
   "source": [
    "## Task 1\n",
    "Although we have built a validation set, it only consists of positive samples. For this task we also need examples of user/item pairs that weren’t read. For each entry (user,book) in the validation set, sample a negative entry by randomly choosing a book that user hasn’t read. Evaluate the performance (accuracy) of the baseline model on the validation set you have built (1 mark)."
   ]
  },
  {
   "cell_type": "code",
   "execution_count": 358,
   "metadata": {},
   "outputs": [],
   "source": [
    "Xy_train = data[:190000]\n",
    "Xy_valid = data[190000:]\n",
    "# First get overview of what books each user have read, and what what user a book has been read by.\n",
    "usersPerBook = defaultdict(set)\n",
    "bookPerUser = defaultdict(set)\n",
    "for line in data:\n",
    "    userID, bookID, rating = line\n",
    "    usersPerBook[bookID].add(userID)\n",
    "    bookPerUser[userID].add(bookID)\n",
    "\n",
    "# Randomly ad some negative samples to the validation set\n",
    "negative_samples = []\n",
    "available_books = usersPerBook.keys()\n",
    "for user, book, has_read in Xy_valid:\n",
    "    #print(user,book)\n",
    "    random_book = random.choice(list(available_books))\n",
    "    while random_book in bookPerUser[user]:\n",
    "        random_book = random.choice(list(available_books))\n",
    "    new_data = [user, random_book, 0]\n",
    "    negative_samples.append(new_data)\n",
    "Xy_valid += negative_samples # Add the negative data\n",
    "random.shuffle(Xy_valid)\n",
    "\n",
    "Xtrain, ytrain = [d[:2] for d in Xy_train], [d[2] for d in Xy_train]\n",
    "Xvalid, yvalid = [d[:2] for d in Xy_valid], [d[2] for d in Xy_valid]"
   ]
  },
  {
   "cell_type": "code",
   "execution_count": 359,
   "metadata": {},
   "outputs": [],
   "source": [
    "def accuracy(predictions, labels):\n",
    "    predictions, labels = np.array(predictions), np.array(labels)\n",
    "    return sum(predictions == labels) / len(predictions)\n",
    "\n",
    "def most_popular_percentile(mostPopular, percentile):\n",
    "    return1 = set()\n",
    "    count = 0\n",
    "    for b_count, b in mostPopular:\n",
    "        count += b_count\n",
    "        return1.add(b)\n",
    "        if count > percentile * totalRead: break\n",
    "    return return1"
   ]
  },
  {
   "cell_type": "code",
   "execution_count": 360,
   "metadata": {},
   "outputs": [
    {
     "name": "stdout",
     "output_type": "stream",
     "text": [
      "Accuracy: 0.6464\n"
     ]
    }
   ],
   "source": [
    "### Would-read baseline: just rank which books are popular and which are not, and return '1' if a book is among the top-ranked\n",
    "\n",
    "bookCount = defaultdict(int)\n",
    "totalRead = 0\n",
    "\n",
    "for user,book in Xtrain:\n",
    "    bookCount[book] += 1\n",
    "    totalRead += 1\n",
    "\n",
    "mostPopular = [(bookCount[x], x) for x in bookCount]\n",
    "mostPopular.sort(reverse=True)\n",
    "\n",
    "return1 = most_popular_percentile(mostPopular, 0.5)\n",
    "\n",
    "predictions = []\n",
    "for user, book in Xvalid:\n",
    "    pred = 1 if book in return1 else 0\n",
    "    predictions.append(pred)\n",
    "\n",
    "print(\"Accuracy: {}\".format(accuracy(predictions, yvalid)))"
   ]
  },
  {
   "cell_type": "markdown",
   "metadata": {},
   "source": [
    "## Task 2\n",
    "The existing ‘read prediction’ baseline just returns True if the item in question is ‘popular,’ using a threshold of the 50th percentile of popularity (totalRead/2). Assuming that the ‘non-read’ test examples are a random sample of user-book pairs, this threshold may not be the best one. See if you can find a better threshold and report its performance on your validatin set (1 mark)."
   ]
  },
  {
   "cell_type": "code",
   "execution_count": 361,
   "metadata": {},
   "outputs": [
    {
     "data": {
      "image/png": "[encoded data removed]",
      "text/plain": [
       "<Figure size 432x288 with 1 Axes>"
      ]
     },
     "metadata": {
      "needs_background": "light"
     },
     "output_type": "display_data"
    }
   ],
   "source": [
    "### Would-read baseline: just rank which books are popular and which are not, and return '1' if a book is among the top-ranked\n",
    "thresholds = np.arange(0.05, 1.0, 0.05)\n",
    "scores = []\n",
    "for th in thresholds:\n",
    "    return1 = most_popular_percentile(mostPopular, th)\n",
    "    predictions = []\n",
    "    for user, book in Xvalid:\n",
    "        pred = 1 if book in return1 else 0\n",
    "        predictions.append(pred)\n",
    "\n",
    "    scores.append(accuracy(predictions, yvalid))\n",
    "scores = [100*x for x in scores]\n",
    "plt.plot(thresholds*100, scores)\n",
    "plt.xlabel(\"Percentile (%)\")\n",
    "plt.ylabel(\"Accuracy (%)\")\n",
    "plt.grid(True)\n",
    "plt.xticks(thresholds*100)\n",
    "plt.show()"
   ]
  },
  {
   "cell_type": "markdown",
   "metadata": {},
   "source": [
    "From the graph we can see that it gets the highest accuracy by setting the percentile to 55% instead of 50%. So we use that, and we get an accuracy of:"
   ]
  },
  {
   "cell_type": "code",
   "execution_count": 362,
   "metadata": {},
   "outputs": [
    {
     "name": "stdout",
     "output_type": "stream",
     "text": [
      "Accuracy: 0.6542\n"
     ]
    }
   ],
   "source": [
    "return1 = most_popular_percentile(mostPopular, 0.55)\n",
    "predictions = []\n",
    "for user, book in Xvalid:\n",
    "    pred = 1 if book in return1 else 0\n",
    "    predictions.append(pred)\n",
    "print(\"Accuracy: {}\".format(accuracy(predictions, yvalid)))"
   ]
  },
  {
   "cell_type": "markdown",
   "metadata": {},
   "source": [
    "Which is only about 0.05 % better performance..."
   ]
  },
  {
   "cell_type": "markdown",
   "metadata": {},
   "source": [
    "## Task 3\n",
    "A stronger baseline than the one provided might make use of the Jaccard similarity (or another similarity\n",
    "metric). Given a pair (u, b) in the validation set, consider all training items b′ that user u has read. For each, compute the Jaccard similarity between b and b′, i.e., users (in the training set) who have read ′\n",
    "b and users who have read b . Predict as ‘read’ if the maximum of these Jaccard similarities exceeds a threshold (you may choose the threshold that works best). Report the performance on your validation set (1 mark)."
   ]
  },
  {
   "cell_type": "code",
   "execution_count": 280,
   "metadata": {},
   "outputs": [],
   "source": [
    "def Jaccard(s1, s2):\n",
    "    numer = len(s1.intersection(s2))\n",
    "    denom = len(s1.union(s2))\n",
    "    return numer / denom"
   ]
  },
  {
   "cell_type": "code",
   "execution_count": 281,
   "metadata": {},
   "outputs": [],
   "source": [
    "# Structure the training data into other datastructures\n",
    "usersPerBook = defaultdict(set)\n",
    "bookPerUser = defaultdict(set)\n",
    "for user, book in Xtrain:\n",
    "    usersPerBook[book].add(user)\n",
    "    bookPerUser[user].add(book)  "
   ]
  },
  {
   "cell_type": "code",
   "execution_count": 286,
   "metadata": {},
   "outputs": [
    {
     "name": "stdout",
     "output_type": "stream",
     "text": [
      "Accuracy: 0.56\n"
     ]
    }
   ],
   "source": [
    "# Predict by using the Jaccard sim and a threshold\n",
    "def predict(user, book, threshold=0.03):\n",
    "    similarities = []\n",
    "    users = usersPerBook[book]\n",
    "\n",
    "    # More efficient by considering a smaller candidate set of items.\n",
    "    # We restrict the search to only those items that could possibly have non-zero Jaccard sim.\n",
    "    candidateItems = set() \n",
    "    for u in users:\n",
    "        candidateItems = candidateItems.union(bookPerUser[u])\n",
    "\n",
    "    # Compute the similarity between the book to predict and all the books in candidateItems\n",
    "    for book2 in candidateItems:\n",
    "        if book2 == book:\n",
    "            continue\n",
    "        # Simularity between the uservector for book compared to uservector for book2\n",
    "        sim = Jaccard(users, usersPerBook[book2])\n",
    "        similarities.append((sim, book2))\n",
    "    similarities.sort(reverse=True)\n",
    "    \n",
    "    # Predict based on Jaccard sim and popularity\n",
    "    return len(similarities) > 0 and similarities[0][0] > threshold\n",
    "\n",
    "# Make predictions based on Jaccard\n",
    "threshold = 0.15 \n",
    "predictions = []\n",
    "for user, book in Xvalid[:100]:\n",
    "    predictions.append(predict(user, book, thereshold))\n",
    "print(\"Accuracy: {}\".format(accuracy(predictions, yvalid[:100])))"
   ]
  },
  {
   "cell_type": "markdown",
   "metadata": {},
   "source": [
    "## Task 4\n",
    "Improve the above predictor by incorporating both a Jaccard-based threshold and a popularity based threshold. Report the performance on your validation set (1 mark)"
   ]
  },
  {
   "cell_type": "code",
   "execution_count": 400,
   "metadata": {},
   "outputs": [
    {
     "name": "stdout",
     "output_type": "stream",
     "text": [
      "46 100\n",
      "Accuracy: 0.63\n"
     ]
    }
   ],
   "source": [
    "\n",
    "# Predict by using the Jaccard sim and the popularity\n",
    "def predict(user, book, popularPercentile, threshold=0.03):\n",
    "    similarities = []\n",
    "    users = usersPerBook[book]\n",
    "\n",
    "    # More efficient by considering a smaller candidate set of items.\n",
    "    # We restrict the search to only those items that could possibly have non-zero Jaccard sim.\n",
    "    candidateItems = set() \n",
    "    for u in users:\n",
    "        candidateItems = candidateItems.union(bookPerUser[u])\n",
    "\n",
    "    # Compute the similarity between the book to predict and all the books in candidateItems\n",
    "    for book2 in candidateItems:\n",
    "        if book2 == book:\n",
    "            continue\n",
    "        # Simularity between the uservector for book compared to uservector for book2\n",
    "        sim = Jaccard(users, usersPerBook[book2])\n",
    "        similarities.append((sim, book2))\n",
    "    similarities.sort(reverse=True)\n",
    "    \n",
    "    # Predict based on Jaccard sim and popularity\n",
    "    #if len(similarities) >0:\n",
    "        #print(similarities[0][0] > threshold, book in popularPercentile)\n",
    "    pred = (len(similarities) > 0) and ((similarities[0][0] > threshold) or (book in popularPercentile))\n",
    "    return int(pred)\n",
    "        \n",
    "popularity_th = 0.70\n",
    "jaccard_th = 0.70\n",
    "\n",
    "popularPercentile = most_popular_percentile(mostPopular, popularity_th)      \n",
    "predictions = []\n",
    "xval, yval = Xvalid[:100], yvalid[:100]\n",
    "for user, book in xval:\n",
    "    predictions.append(predict(user, book, popularPercentile, threshold=jaccard_th))\n",
    "print(sum(predictions), len(predictions))\n",
    "print(\"Accuracy: {}\".format(accuracy(predictions, yval)))"
   ]
  },
  {
   "cell_type": "code",
   "execution_count": 395,
   "metadata": {},
   "outputs": [],
   "source": [
    "def unpack(theta):\n",
    "    global popularity_th\n",
    "    global jaccard_th\n",
    "    popularity_th, jaccard_th = theta\n",
    "    \n",
    "def MSE(predictions, labels):\n",
    "    differences = [(x-y)**2 for x,y in zip(predictions,labels)]\n",
    "    return sum(differences) / len(differences)\n",
    "    \n",
    "def cost(theta, labels, lamb):\n",
    "    unpack(theta)\n",
    "    predictions = [predict(user, book, popularPercentile, threshold=jaccard_th) for user, book in Xvalid[:100]]\n",
    "    cost = MSE(predictions, labels)\n",
    "    print(\"MSE = \" + str(cost))\n",
    "    \n",
    "    return cost\n",
    "\n",
    "def derivative(theta, labels, lamb):\n",
    "    unpack(theta)\n",
    "    N = len(Xvalid[:100])\n",
    "    dpopularity_th = 0\n",
    "    djaccard_th = 0\n",
    "    i = 0\n",
    "    for user, book in Xvalid[:100]:\n",
    "        pred = predict(u, i, popularity_th, jaccard_th)\n",
    "        diff = pred - yvalid[i]\n",
    "        dpopularity_th += 2/N*diff\n",
    "        djaccard_th += 2/N*diff \n",
    "        i+=1 \n",
    "    dpopularity_th += 2*lamb*popularity_th\n",
    "    djaccard_th += 2*lamb*jaccard_th\n",
    "\n",
    "    dtheta = [dpopularity_th, djaccard_th]\n",
    "    print(dtheta)\n",
    "    return np.array(dtheta)"
   ]
  },
  {
   "cell_type": "code",
   "execution_count": 397,
   "metadata": {},
   "outputs": [
    {
     "name": "stdout",
     "output_type": "stream",
     "text": [
      "START 0 0\n",
      "MSE = 0.49\n",
      "[-1.0200000000000005, -1.0200000000000005]\n",
      "MSE = 0.34\n",
      "[0.39421356237309446, 0.39421356237309446]\n",
      "MSE = 0.34\n",
      "[0.0, 0.0]\n",
      "MSE = 0.34\n",
      "[0.2630060007544939, 0.2630060007544939]\n",
      "MSE = 0.34\n",
      "[0.3624163050056466, 0.3624163050056466]\n",
      "MSE = 0.34\n",
      "[0.3872835572243416, 0.3872835572243416]\n",
      "MSE = 0.34\n",
      "[0.39274088131487983, 0.39274088131487983]\n",
      "MSE = 0.34\n",
      "[0.39390231488211924, 0.39390231488211924]\n",
      "MSE = 0.34\n",
      "[0.394147857394646, 0.394147857394646]\n",
      "MSE = 0.34\n",
      "[0.39419969532420485, 0.39419969532420485]\n",
      "MSE = 0.34\n",
      "[0.3942106358813473, 0.3942106358813473]\n",
      "MSE = 0.34\n",
      "[0.3942129447751961, 0.3942129447751961]\n",
      "MSE = 0.34\n",
      "[0.3942134320374173, 0.3942134320374173]\n",
      "MSE = 0.34\n",
      "[0.3942135348675273, 0.3942135348675273]\n",
      "MSE = 0.34\n",
      "[0.39421355656842016, 0.39421355656842016]\n",
      "MSE = 0.34\n",
      "[0.39421356114809725, 0.39421356114809725]\n",
      "MSE = 0.34\n",
      "[0.3942135621145755, 0.3942135621145755]\n",
      "MSE = 0.34\n",
      "[0.39421356231853766, 0.39421356231853766]\n",
      "MSE = 0.34\n",
      "[0.394213562361581, 0.394213562361581]\n",
      "MSE = 0.34\n",
      "[0.3942135623706646, 0.3942135623706646]\n",
      "MSE = 0.34\n",
      "[0.39421356237258176, 0.39421356237258176]\n",
      "MSE = 0.34\n",
      "[0.3942135623729863, 0.3942135623729863]\n",
      "MSE = 0.34\n",
      "[-0.39421356237309446, -0.39421356237309446]\n",
      "MSE = 0.34\n",
      "[0.00039421356237312466, 0.00039421356237312466]\n",
      "MSE = 0.34\n",
      "[0.2632027300514459, 0.2632027300514459]\n",
      "MSE = 0.34\n",
      "[0.3624709103931065, 0.3624709103931065]\n",
      "MSE = 0.34\n",
      "[0.3872958456175821, 0.3872958456175821]\n",
      "MSE = 0.34\n",
      "[0.39274351086050197, 0.39274351086050197]\n",
      "MSE = 0.34\n",
      "[0.3939028714479704, 0.3939028714479704]\n",
      "MSE = 0.34\n",
      "[0.3941479749233401, 0.3941479749233401]\n",
      "MSE = 0.34\n",
      "[0.39419972013028626, 0.39419972013028626]\n",
      "MSE = 0.34\n",
      "[0.39421064111647675, 0.39421064111647675]\n",
      "MSE = 0.34\n",
      "[0.394212945880005, 0.394212945880005]\n",
      "MSE = 0.34\n",
      "[0.3942134322705724, 0.3942134322705724]\n",
      "MSE = 0.34\n",
      "[0.3942135349167315, 0.3942135349167315]\n",
      "MSE = 0.34\n",
      "[0.3942135565788041, 0.3942135565788041]\n",
      "MSE = 0.34\n",
      "[0.3942135611502886, 0.3942135611502886]\n",
      "MSE = 0.34\n",
      "[0.394213562115038, 0.394213562115038]\n",
      "MSE = 0.34\n",
      "[0.39421356231863514, 0.39421356231863514]\n",
      "MSE = 0.34\n",
      "[0.39421356236160165, 0.39421356236160165]\n",
      "MSE = 0.34\n",
      "[0.39421356237066907, 0.39421356237066907]\n",
      "MSE = 0.34\n",
      "[0.39421356237258265, 0.39421356237258265]\n",
      "END 0.7071067811862916 0.7071067811862916\n"
     ]
    }
   ],
   "source": [
    "import random\n",
    "import scipy\n",
    "popularity_th = 0\n",
    "jaccard_th = 0\n",
    "print(\"START\", popularity_th, jaccard_th)\n",
    "scipy.optimize.fmin_l_bfgs_b(cost, [popularity_th, jaccard_th],\n",
    "                             derivative, args = (yvalid[:100], 1))\n",
    "print(\"END\", popularity_th, jaccard_th)"
   ]
  },
  {
   "cell_type": "markdown",
   "metadata": {},
   "source": [
    "## Task 5\n",
    "To run our model on the test set, we’ll have to use the files ‘pairs Read.txt’ to find the reviewerID/itemID pairs about which we have to make predictions. Using that data, run the above model and upload your solution to Kaggle. Tell us your Kaggle user name (1 mark). If you’ve already uploaded a better solution to Kaggle, that’s fine too!"
   ]
  },
  {
   "cell_type": "code",
   "execution_count": 332,
   "metadata": {},
   "outputs": [],
   "source": [
    "popularPercentile = most_popular_percentile(mostPopular, popularity_th)   \n",
    "\n",
    "predictions = open(\"predictions_Read.txt\", 'w')\n",
    "for l in open(\"pairs_Read.txt\"):\n",
    "    if l.startswith(\"userID\"):\n",
    "        #header\n",
    "        predictions.write(l)\n",
    "        continue\n",
    "    user, book = l.strip().split('-')\n",
    "    pred = predict(user, book, popularPercentile, threshold=jaccard_th)\n",
    "    predictions.write(user + '-' + book + \",{}\\n\".format(pred))\n",
    "predictions.close()"
   ]
  },
  {
   "cell_type": "markdown",
   "metadata": {},
   "source": [
    "# (CSE 258 only) Tasks (Rating prediction)\n",
    "\n",
    "Let’s start by building our training/validation sets much as we did for the first task. This time building a validation set is more straightforward: you can simply use part of the data for validation, and do not need to randomly sample non-read users/books."
   ]
  },
  {
   "cell_type": "markdown",
   "metadata": {},
   "source": [
    "## Task 9\n",
    "Fit a predictor of the form\n",
    "\n",
    "$rating(user, item) = \\alpha + \\beta_{user} + \\beta_{item}$\n",
    "\n",
    "\n",
    "by fitting the mean and the two bias terms as described in the lecture notes. Use a regularization\n",
    "parameter of λ = 1. Report the MSE on the validation set (1 mark)."
   ]
  },
  {
   "cell_type": "code",
   "execution_count": null,
   "metadata": {},
   "outputs": [],
   "source": [
    "# Code here"
   ]
  },
  {
   "cell_type": "markdown",
   "metadata": {},
   "source": [
    "## Task 10\n",
    "Report the user and book IDs that have the largest and smallest values of β (1 mark)."
   ]
  },
  {
   "cell_type": "code",
   "execution_count": null,
   "metadata": {},
   "outputs": [],
   "source": [
    "# Code here"
   ]
  },
  {
   "cell_type": "markdown",
   "metadata": {},
   "source": [
    "## Task 11\n",
    "Find a better value of λ using your validation set. Report the value you chose, its MSE, and upload your solution to Kaggle by running it on the test data (1 mark)."
   ]
  },
  {
   "cell_type": "code",
   "execution_count": null,
   "metadata": {},
   "outputs": [],
   "source": [
    "# Code here"
   ]
  }
 ],
 "metadata": {
  "kernelspec": {
   "display_name": "Python 3",
   "language": "python",
   "name": "python3"
  },
  "language_info": {
   "codemirror_mode": {
    "name": "ipython",
    "version": 3
   },
   "file_extension": ".py",
   "mimetype": "text/x-python",
   "name": "python",
   "nbconvert_exporter": "python",
   "pygments_lexer": "ipython3",
   "version": "3.6.8"
  }
 },
 "nbformat": 4,
 "nbformat_minor": 2
}
