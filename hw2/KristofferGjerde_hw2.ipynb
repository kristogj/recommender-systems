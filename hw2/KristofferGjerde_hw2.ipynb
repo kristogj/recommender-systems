{
 "cells": [
  {
   "cell_type": "markdown",
   "metadata": {},
   "source": [
    "# CSE 258, Fall 2019: Homework 2\n",
    "\n",
    "Polish Backruptcy data: https://archive.ics.uci.edu/ml/datasets/Polish+companies+bankruptcy+data\n",
    "\n",
    "## Tasks - Diagnotics (week 2):\n",
    "In the first homework, we had two issues with the classifiers we built. Namely (1) the data were not shuffled, and (2) the labels were highly imbalanced. Both of these made it difficult to effectively build an accurate classifier. Here we’ll try and correct for those issues using the Bankruptcy dataset."
   ]
  },
  {
   "cell_type": "code",
   "execution_count": 1,
   "metadata": {},
   "outputs": [],
   "source": [
    "def warn(*args, **kwargs):\n",
    "    pass\n",
    "import warnings\n",
    "warnings.warn = warn\n",
    "\n",
    "import numpy as np\n",
    "import pandas as pd\n",
    "from sklearn.linear_model import LogisticRegression\n",
    "import random\n",
    "import matplotlib.pyplot as plt"
   ]
  },
  {
   "cell_type": "markdown",
   "metadata": {},
   "source": [
    "### Task 1 \n",
    "Download and parse the bankruptcy data. We’ll use the 5year.arff file. Code to read the data is available in the stub. Train a logistic regressor (e.g. sklearn.linear model.LogisticRegression) with regularization coefficient C = 1.0. Report the accuracy and Balanced Error Rate (BER) of your classifier (1 mark)."
   ]
  },
  {
   "cell_type": "code",
   "execution_count": 2,
   "metadata": {},
   "outputs": [],
   "source": [
    "f = open(\"./data/5year.arff\", 'r')\n",
    "\n",
    "# Reading in data - removing the first rows with attribute info\n",
    "while not '@data' in f.readline():\n",
    "    pass\n",
    "\n",
    "dataset = []\n",
    "for l in f:\n",
    "    if '?' in l: # Missing entry\n",
    "        continue\n",
    "    l = l.split(',')\n",
    "    values = [1] + [float(x) for x in l]\n",
    "    values[-1] = values[-1] > 0 # Convert to bool\n",
    "    dataset.append(values)\n",
    "\n",
    "# Data setup\n",
    "X = [d[:-1] for d in dataset]\n",
    "y = [d[-1] for d in dataset]"
   ]
  },
  {
   "cell_type": "markdown",
   "metadata": {},
   "source": [
    "$BER = \\frac{1}{2} (FPR + FNR)$   \n",
    "$BER =  1 - \\frac{1}{2} (TPR + TNR)$   \n",
    "$BER = 1 - \\frac{1}{2} \\cdot (\\frac{TP}{TP + FN} + \\frac{TN}{TN + FP})$   \n",
    "\n",
    "BER should be around 0.5 for a random classifier, and 0 for a perfect classifier."
   ]
  },
  {
   "cell_type": "code",
   "execution_count": 3,
   "metadata": {},
   "outputs": [],
   "source": [
    "def get_truth(X, y, model):\n",
    "    pred = model.predict(X)\n",
    "    correct = pred == y\n",
    "    # True positives, false positives, etc.\n",
    "    TP_ = np.logical_and(pred, y)\n",
    "    FP_ = np.logical_and(pred, np.logical_not(y))\n",
    "    TN_ = np.logical_and(np.logical_not(pred), np.logical_not(y))\n",
    "    FN_ = np.logical_and(np.logical_not(pred), y)\n",
    "    return sum(TP_), sum(FP_), sum(TN_), sum(FN_)\n",
    "\n",
    "def get_accuracy_and_BER(X, y, model):\n",
    "    TP, FP, TN, FN = get_truth(X, y, model)\n",
    "    accuracy = (TP + TN) / (TP + FP + TN + FN)\n",
    "    TPR = TP / (TP + FN) # True positive rate\n",
    "    TNR = TN / (TN + FP) # True negative rate\n",
    "    BER = 1 - 0.5 * (TPR + TNR) # Balanced Error Rate\n",
    "    return accuracy, BER"
   ]
  },
  {
   "cell_type": "code",
   "execution_count": 4,
   "metadata": {},
   "outputs": [
    {
     "name": "stdout",
     "output_type": "stream",
     "text": [
      "Model fit and test on whole dataset\n",
      "Balanced Error Rate: 0.4766851431593464\n"
     ]
    }
   ],
   "source": [
    "model = LogisticRegression(C=1.0, solver=\"lbfgs\")\n",
    "model.fit(X, y)\n",
    "accuracy, BER = get_accuracy_and_BER(X, y, model)\n",
    "print(\"Model fit and test on whole dataset\")\n",
    "print(\"Balanced Error Rate: {}\".format(BER))"
   ]
  },
  {
   "cell_type": "markdown",
   "metadata": {},
   "source": [
    "### Task 2\n",
    "Retrain the above model using the class weight=’balanced’ option. Report the accuracy and BER of your new classifier (1 mark)."
   ]
  },
  {
   "cell_type": "code",
   "execution_count": 5,
   "metadata": {},
   "outputs": [
    {
     "name": "stdout",
     "output_type": "stream",
     "text": [
      "Model fit and test on whole dataset\n",
      "Balanced Error Rate: 0.304060477041619\n"
     ]
    }
   ],
   "source": [
    "model = LogisticRegression(C=1.0, solver=\"lbfgs\", class_weight=\"balanced\")\n",
    "model.fit(X, y)\n",
    "accuracy, BER = get_accuracy_and_BER(X, y, model)\n",
    "print(\"Model fit and test on whole dataset\")\n",
    "print(\"Balanced Error Rate: {}\".format(BER))"
   ]
  },
  {
   "cell_type": "markdown",
   "metadata": {},
   "source": [
    "### Task 3\n",
    "Shuffle the data, and split it into training, validation, and test splits, with a 50/25/25% ratio. Using the class weight=’balanced’ option, and training on the training set, report the training/validation/test accuracy and BER (1 mark)."
   ]
  },
  {
   "cell_type": "code",
   "execution_count": 6,
   "metadata": {},
   "outputs": [],
   "source": [
    "def train_val_test_split(X, y, ratio=(0.5,0.25,0.25), shuffle=True):\n",
    "    if shuffle:\n",
    "        Xy = list(zip(X,y))\n",
    "        random.shuffle(Xy)\n",
    "\n",
    "        X = [d[0] for d in Xy]\n",
    "        y = [d[1] for d in Xy]\n",
    "\n",
    "    N = len(y)\n",
    "    \n",
    "    assert len(ratio) == 3 and sum(ratio) == 1.0\n",
    "    \n",
    "    Ntrain = round(N*ratio[0])\n",
    "    Nvalid = round(N*ratio[1])\n",
    "    Ntest = round(N*ratio[2])\n",
    "\n",
    "    Xtrain, ytrain = X[:Ntrain], y[:Ntrain]\n",
    "    Xvalid, yvalid = X[Ntrain:Ntrain+Nvalid], y[Ntrain:Ntrain+Nvalid]\n",
    "    Xtest, ytest = X[Ntrain+Nvalid:], y[Ntrain+Nvalid:]\n",
    "\n",
    "    return Xtrain, Xvalid, Xtest, ytrain, yvalid, ytest"
   ]
  },
  {
   "cell_type": "code",
   "execution_count": 7,
   "metadata": {},
   "outputs": [
    {
     "name": "stdout",
     "output_type": "stream",
     "text": [
      "(TRAINING) Accuracy: 0.8186015831134564, BER: 0.2263334002542997\n",
      "(VALIDATION) Accuracy: 0.8153034300791556, BER: 0.2886766712141883\n",
      "(TEST) Accuracy: 0.8203434610303831, BER: 0.31558455224665893\n"
     ]
    }
   ],
   "source": [
    "\n",
    "Xtrain, Xvalid, Xtest, ytrain, yvalid, ytest = train_val_test_split(X,y)\n",
    "\n",
    "model = LogisticRegression(C=1.0, class_weight=\"balanced\", solver=\"lbfgs\")\n",
    "model.fit(Xtrain, ytrain)\n",
    "\n",
    "print(\"(TRAINING) Accuracy: {}, BER: {}\".format(*get_accuracy_and_BER(Xtrain, ytrain, model)))\n",
    "print(\"(VALIDATION) Accuracy: {}, BER: {}\".format(*get_accuracy_and_BER(Xvalid, yvalid, model)))\n",
    "print(\"(TEST) Accuracy: {}, BER: {}\".format(*get_accuracy_and_BER(Xtest, ytest, model)))"
   ]
  },
  {
   "cell_type": "markdown",
   "metadata": {},
   "source": [
    "### Task 4\n",
    "Implement a complete regularization pipeline. Consider values of C in the range {10−4, 10−3, . . . , 103, 104}. Report (or plot) the train, validation, and test BER for each value of C. Based on these values, which classifier would you select (in terms of generalization performance) and why (1 mark)?"
   ]
  },
  {
   "cell_type": "code",
   "execution_count": 8,
   "metadata": {},
   "outputs": [
    {
     "data": {
      "image/png": "[encoded data removed]",
      "text/plain": [
       "<Figure size 1152x576 with 1 Axes>"
      ]
     },
     "metadata": {
      "needs_background": "light"
     },
     "output_type": "display_data"
    }
   ],
   "source": [
    "cs = [10**(-4) * 10**(x) for x in range(0, 9)]\n",
    "train_BER, valid_BER, test_BER = [], [], []\n",
    "for c in cs:\n",
    "    model = LogisticRegression(C=c, class_weight=\"balanced\", solver=\"lbfgs\")\n",
    "    model.fit(Xtrain, ytrain)\n",
    "    train_BER.append(get_accuracy_and_BER(Xtrain,ytrain, model)[1])\n",
    "    valid_BER.append(get_accuracy_and_BER(Xvalid,yvalid, model)[1])\n",
    "    test_BER.append(get_accuracy_and_BER(Xtest,ytest, model)[1])\n",
    "\n",
    "\n",
    "\n",
    "x = np.arange(0, len(cs))\n",
    "plt.figure(figsize=(16,8))\n",
    "plt.plot(x, train_BER, marker=\"o\",label=\"Train BER\")\n",
    "plt.plot(x, valid_BER, marker=\"o\", label=\"Valid BER\")\n",
    "plt.plot(x, test_BER, marker=\"o\", label=\"Test BER\")\n",
    "plt.xticks(ticks=x, labels=cs)\n",
    "plt.legend(loc=\"best\")\n",
    "plt.show()"
   ]
  },
  {
   "cell_type": "markdown",
   "metadata": {},
   "source": [
    "### Task 5\n",
    "Compute the Fβ scores for β = 1, β = 0.1, and β = 10 for the above classifier, using C = 1 (on the test set) (1 mark).\n",
    "\n",
    "$F_\\beta = (1 + \\beta^2) \\cdot \\frac{precision \\cdot recall}{\\beta^2precision + recall}$   \n",
    "where  \n",
    "$Precision = \\frac{TP}{TP + FP}$ & \n",
    "$Recall = \\frac{TP}{TP + FN}$\n",
    "\n",
    "If precision is more important you should use a low beta, and if recall is more important you should use a high beta."
   ]
  },
  {
   "cell_type": "code",
   "execution_count": 9,
   "metadata": {},
   "outputs": [
    {
     "name": "stdout",
     "output_type": "stream",
     "text": [
      "(beta=1) F_beta score: 0.0625\n",
      "(beta=0.1) F_beta score: 0.16134185303514376\n",
      "(beta=10) F_beta score: 0.0387567152724482\n"
     ]
    }
   ],
   "source": [
    "\"\"\"\n",
    "Note: In statistical analysis of binary classification, the F1 score (also F-score or F-measure) is a measure of a \n",
    "test’s accuracy. ( a type I error is detecting an effect that is not present, while a type II error is failing to \n",
    "detect an effect that is present. The terms “type I error” and “type II error” are often used interchangeably with \n",
    "the general notion of false positives and false negatives ). Fβ “measures the effectiveness of retrieval with \n",
    "respect to a user who attaches β times as much importance to recall as precision”\n",
    "\"\"\"\n",
    "def f_beta(X, y, model, beta):\n",
    "    TP, FP, TN, FN = get_truth(X, y, model)\n",
    "    precision = TP / (TP + FP)\n",
    "    recall = TP / (TP + FN)\n",
    "    return ((1 + beta**2) * (precision*recall) / (beta**2*precision + recall))\n",
    "\n",
    "model = LogisticRegression(C=1.0, solver=\"lbfgs\")\n",
    "model.fit(Xtrain, ytrain)\n",
    "for beta in [1, 0.1, 10]:\n",
    "    score = f_beta(Xtest, ytest, model, beta)\n",
    "    print(\"(beta={}) F_beta score: {}\".format(beta, score))\n",
    "\n",
    "    \n",
    "    "
   ]
  },
  {
   "cell_type": "markdown",
   "metadata": {},
   "source": [
    "### Task 6 \n",
    "The sample weight option allows you to manually build a balanced (or imbalanced) classifier by assigning different weights to each datapoint (i.e., each label y in the training set). For example, we would assign equal weight to all samples by fitting:\n",
    "\n",
    "```\n",
    "weights = [1.0 * len(ytrain)]\n",
    "mod = linear_model.LogisticRegression(C=1, solver=’lbfgs’) mod.fit(Xtrain, ytrain, sample_weight=weights)\n",
    "```\n",
    "\n",
    "(note that you should use the lbfgs solver option, and need not set class weight=’balanced’ in\n",
    "this case). Assigning larger weights to (e.g.) positive samples would encourage the logistic regressor to\n",
    "optimize for the True Positive Rate. Using the above code, compute the Fβ score (on the test set) of your\n",
    "(unweighted) classifier, for β = 1 and β = 10. Following this, identify weight vectors that yield better\n",
    "performance (compared to the unweighted vector) in terms of the F1 and F10 scores (2 marks)"
   ]
  },
  {
   "cell_type": "code",
   "execution_count": 10,
   "metadata": {},
   "outputs": [
    {
     "name": "stdout",
     "output_type": "stream",
     "text": [
      "(beta=1, unweighted) F_beta score: 0.0625\n",
      "(beta=10, unweighted) F_beta score: 0.0387567152724482\n",
      "(beta=1, weighted) F_beta score: 0.17699115044247787\n",
      "(beta=10, weighted) F_beta score: 0.3758838853740231\n",
      "\n"
     ]
    }
   ],
   "source": [
    "# Unweighted classifier\n",
    "model = LogisticRegression(C=1.0, solver=\"lbfgs\")\n",
    "model.fit(Xtrain, ytrain)\n",
    "\n",
    "for beta in [1, 10]:\n",
    "    score = f_beta(Xtest, ytest, model, beta)\n",
    "    print(\"(beta={}, unweighted) F_beta score: {}\".format(beta, score))\n",
    "\n",
    "# Make some assumptions about how each sample, an example is asigning larger weights to \n",
    "# e.g. positive samples would encourage the logistic regressor to optimize for the\n",
    "# True Positive Rate.\n",
    "ratio = 0.95\n",
    "\n",
    "weights = [ratio if label else 1-ratio for label in ytrain]\n",
    "model = LogisticRegression(C=1.0, solver=\"lbfgs\")\n",
    "model.fit(Xtrain, ytrain, sample_weight=weights)\n",
    "\n",
    "for beta in [1, 10]:\n",
    "    score = f_beta(Xtest, ytest, model, beta)\n",
    "    print(\"(beta={}, weighted) F_beta score: {}\".format(beta, score))\n",
    "print()\n"
   ]
  },
  {
   "cell_type": "markdown",
   "metadata": {},
   "source": [
    "## Tasks - Dimensionality Reduction (week 3):\n",
    "Next we’ll consider using PCA to build a lower-dimensional feature vector to do prediction."
   ]
  },
  {
   "cell_type": "code",
   "execution_count": 11,
   "metadata": {},
   "outputs": [],
   "source": [
    "import scipy.optimize\n",
    "import random\n",
    "from sklearn.decomposition import PCA\n",
    "from collections import defaultdict"
   ]
  },
  {
   "cell_type": "markdown",
   "metadata": {},
   "source": [
    "### Task 7\n",
    "Following the stub code, compute the PCA basis on the training set. Report the first PCA component\n",
    "(i.e., pca.components [0]) (1 mark)."
   ]
  },
  {
   "cell_type": "code",
   "execution_count": 12,
   "metadata": {},
   "outputs": [
    {
     "name": "stdout",
     "output_type": "stream",
     "text": [
      "First PCA component:\n",
      " [-2.28956932e-29  2.93450171e-07 -9.91107992e-07  1.27388644e-06\n",
      "  5.74794102e-06  2.62004687e-03  9.66496022e-07  3.27845199e-07\n",
      "  5.31751420e-06 -5.79719816e-07  9.42609448e-07  2.75276569e-07\n",
      "  1.36222334e-06 -6.61328589e-06  3.27402847e-07  1.29752235e-03\n",
      "  1.22887772e-06  5.69454601e-06  1.64818615e-07  3.73018645e-07\n",
      "  7.08229159e-05  1.06404974e-07  2.27010703e-07  3.48973386e-07\n",
      "  8.36987939e-07  1.23672318e-06  1.09790462e-06 -1.08896034e-04\n",
      "  3.32718626e-05  4.44922407e-06 -1.58671964e-06  3.55291025e-07\n",
      " -6.26738963e-04  5.86337091e-06 -1.87394745e-06  1.99961556e-07\n",
      " -4.58596908e-07  7.05036505e-03  8.31640327e-07  2.44160626e-07\n",
      "  1.72825559e-06 -4.19898106e-06  1.62087891e-07  1.24994053e-04\n",
      "  5.41695290e-05 -2.11961969e-06  3.77230938e-06 -3.70237717e-04\n",
      "  2.75879457e-07  3.47624250e-07  4.15619313e-06 -8.28490775e-07\n",
      " -1.69117868e-06 -5.54207487e-06  3.34696475e-05  9.99970533e-01\n",
      "  2.29123128e-07  1.13791972e-06 -3.19217335e-07 -1.51949373e-06\n",
      " -1.69217526e-04 -4.92834957e-06 -2.83283710e-04  7.17495932e-06\n",
      " -9.69845179e-06]\n"
     ]
    }
   ],
   "source": [
    "# Code Here\n",
    "pca = PCA(n_components=5)\n",
    "pca.fit(Xtrain)\n",
    "print(\"First PCA component:\\n\", pca.components_[0])"
   ]
  },
  {
   "cell_type": "markdown",
   "metadata": {},
   "source": [
    "### Task 8\n",
    "Next we’ll train a model using a low-dimensional feature vector. By representing the data in the above\n",
    "basis, i.e.:\n",
    "\n",
    "```\n",
    "Xpca_train = numpy.matmul(Xtrain, pca.components_.T) \n",
    "Xpca_valid = numpy.matmul(Xvalid, pca.components_.T) \n",
    "Xpca_test = numpy.matmul(Xtest, pca.components_.T)\n",
    "```\n",
    "\n",
    "compute the validation and test BER of a model that uses just the first N components (i.e., dimensions) for N = 5, 10, . . . , 25, 30. Again use class weight=’balanced’ and C = 1.0 (2 marks)."
   ]
  },
  {
   "cell_type": "code",
   "execution_count": 13,
   "metadata": {},
   "outputs": [
    {
     "name": "stdout",
     "output_type": "stream",
     "text": [
      "(N=n5) BER_valid: 0.38207366984993185\n",
      "(N=n5) BER_test: 0.39327054614332324\n",
      "\n",
      "(N=n10) BER_valid: 0.34755798090040924\n",
      "(N=n10) BER_test: 0.30235188887719666\n",
      "\n",
      "(N=n15) BER_valid: 0.3057298772169168\n",
      "(N=n15) BER_test: 0.3340524045038409\n",
      "\n",
      "(N=n20) BER_valid: 0.3043656207366985\n",
      "(N=n20) BER_test: 0.3299484373355783\n",
      "\n",
      "(N=n25) BER_valid: 0.31118690313778985\n",
      "(N=n25) BER_test: 0.3333684099757972\n",
      "\n",
      "(N=n30) BER_valid: 0.2995907230559345\n",
      "(N=n30) BER_test: 0.32789645375144694\n",
      "\n"
     ]
    }
   ],
   "source": [
    "# print(len(Xtrain), len(Xtrain[0]))\n",
    "# print(len(pca.components_), len(pca.components_[0]))\n",
    "\n",
    "N_components = np.arange(5, 35, 5)\n",
    "\n",
    "for n in N_components:\n",
    "    # Fit new pca with n components\n",
    "    pca = PCA(n_components=n)\n",
    "    pca.fit(Xtrain)\n",
    "    \n",
    "    # Transform data\n",
    "    Xpca_train = np.matmul(Xtrain, pca.components_.T) \n",
    "    Xpca_valid = np.matmul(Xvalid, pca.components_.T) \n",
    "    Xpca_test = np.matmul(Xtest, pca.components_.T)\n",
    "    \n",
    "    # Fit model\n",
    "    model = LogisticRegression(C=1.0, solver=\"lbfgs\", class_weight=\"balanced\")\n",
    "    model.fit(Xpca_train, ytrain)\n",
    "    \n",
    "    acc_valid, BER_valid = get_accuracy_and_BER(Xpca_valid, yvalid, model)\n",
    "    acc_test, BER_test = get_accuracy_and_BER(Xpca_test, ytest, model)\n",
    "    \n",
    "    print(\"(N=n{}) BER_valid: {}\".format(n, BER_valid))\n",
    "    print(\"(N=n{}) BER_test: {}\\n\".format(n, BER_test))\n",
    "    \n",
    "    \n"
   ]
  },
  {
   "cell_type": "code",
   "execution_count": null,
   "metadata": {},
   "outputs": [],
   "source": []
  }
 ],
 "metadata": {
  "kernelspec": {
   "display_name": "Python 3",
   "language": "python",
   "name": "python3"
  },
  "language_info": {
   "codemirror_mode": {
    "name": "ipython",
    "version": 3
   },
   "file_extension": ".py",
   "mimetype": "text/x-python",
   "name": "python",
   "nbconvert_exporter": "python",
   "pygments_lexer": "ipython3",
   "version": "3.6.8"
  }
 },
 "nbformat": 4,
 "nbformat_minor": 2
}
