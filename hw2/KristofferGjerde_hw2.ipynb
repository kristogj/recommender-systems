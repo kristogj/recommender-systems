{
 "cells": [
  {
   "cell_type": "markdown",
   "metadata": {},
   "source": [
    "# CSE 258, Fall 2019: Homework 2\n",
    "\n",
    "Polish Backruptcy data: https://archive.ics.uci.edu/ml/datasets/Polish+companies+bankruptcy+data\n",
    "\n",
    "## Tasks - Diagnotics (week 2):\n",
    "In the first homework, we had two issues with the classifiers we built. Namely (1) the data were not shuffled, and (2) the labels were highly imbalanced. Both of these made it difficult to effectively build an accurate classifier. Here we’ll try and correct for those issues using the Bankruptcy dataset."
   ]
  },
  {
   "cell_type": "code",
   "execution_count": 90,
   "metadata": {},
   "outputs": [],
   "source": [
    "def warn(*args, **kwargs):\n",
    "    pass\n",
    "import warnings\n",
    "warnings.warn = warn\n",
    "\n",
    "import numpy as np\n",
    "import pandas as pd\n",
    "from sklearn.linear_model import LogisticRegression\n",
    "import random\n",
    "import matplotlib.pyplot as plt"
   ]
  },
  {
   "cell_type": "markdown",
   "metadata": {},
   "source": [
    "### Task 1 \n",
    "Download and parse the bankruptcy data. We’ll use the 5year.arff file. Code to read the data is available in the stub. Train a logistic regressor (e.g. sklearn.linear model.LogisticRegression) with regularization coefficient C = 1.0. Report the accuracy and Balanced Error Rate (BER) of your classifier (1 mark)."
   ]
  },
  {
   "cell_type": "code",
   "execution_count": 91,
   "metadata": {},
   "outputs": [],
   "source": [
    "f = open(\"./data/5year.arff\", 'r')\n",
    "\n",
    "# Reading in data - removing the first rows with attribute info\n",
    "while not '@data' in f.readline():\n",
    "    pass\n",
    "\n",
    "dataset = []\n",
    "for l in f:\n",
    "    if '?' in l: # Missing entry\n",
    "        continue\n",
    "    l = l.split(',')\n",
    "    values = [1] + [float(x) for x in l]\n",
    "    values[-1] = values[-1] > 0 # Convert to bool\n",
    "    dataset.append(values)\n",
    "\n",
    "# Data setup\n",
    "X = [d[:-1] for d in dataset]\n",
    "y = [d[-1] for d in dataset]"
   ]
  },
  {
   "cell_type": "code",
   "execution_count": 106,
   "metadata": {},
   "outputs": [],
   "source": [
    "def get_truth(X, y, model):\n",
    "    pred = model.predict(X)\n",
    "    correct = pred == y\n",
    "    # True positives, false positives, etc.\n",
    "    TP_ = np.logical_and(pred, y)\n",
    "    FP_ = np.logical_and(pred, np.logical_not(y))\n",
    "    TN_ = np.logical_and(np.logical_not(pred), np.logical_not(y))\n",
    "    FN_ = np.logical_and(np.logical_not(pred), y)\n",
    "    return sum(TP_), sum(FP_), sum(TN_), sum(FN_)\n",
    "\n",
    "def get_accuracy_and_BER(X, y, model):\n",
    "    TP, FP, TN, FN = get_truth(X, y, model)\n",
    "    accuracy = (TP + TN) / (TP + FP + TN + FN)\n",
    "    BER = 1 - 0.5 * (TP / (TP + FN) + TN / (TN + FP))\n",
    "    return accuracy, BER"
   ]
  },
  {
   "cell_type": "code",
   "execution_count": 107,
   "metadata": {},
   "outputs": [
    {
     "name": "stdout",
     "output_type": "stream",
     "text": [
      "Model fit and test on whole dataset\n",
      "Balanced Error Rate: 0.4766851431593464\n"
     ]
    }
   ],
   "source": [
    "model = LogisticRegression(C=1.0, solver=\"lbfgs\")\n",
    "model.fit(X, y)\n",
    "accuracy, BER = get_accuracy_and_BER(X, y, model)\n",
    "print(\"Model fit and test on whole dataset\")\n",
    "print(\"Balanced Error Rate: {}\".format(BER))"
   ]
  },
  {
   "cell_type": "markdown",
   "metadata": {},
   "source": [
    "### Task 2\n",
    "Retrain the above model using the class weight=’balanced’ option. Report the accuracy and BER of your new classifier (1 mark)."
   ]
  },
  {
   "cell_type": "code",
   "execution_count": 108,
   "metadata": {},
   "outputs": [
    {
     "name": "stdout",
     "output_type": "stream",
     "text": [
      "Model fit and test on whole dataset\n",
      "Balanced Error Rate: 0.304060477041619\n"
     ]
    }
   ],
   "source": [
    "model = LogisticRegression(C=1.0, solver=\"lbfgs\", class_weight=\"balanced\")\n",
    "model.fit(X, y)\n",
    "accuracy, BER = get_accuracy_and_BER(X, y, model)\n",
    "print(\"Model fit and test on whole dataset\")\n",
    "print(\"Balanced Error Rate: {}\".format(BER))"
   ]
  },
  {
   "cell_type": "markdown",
   "metadata": {},
   "source": [
    "### Task 3\n",
    "Shuffle the data, and split it into training, validation, and test splits, with a 50/25/25% ratio. Using the class weight=’balanced’ option, and training on the training set, report the training/validation/test accuracy and BER (1 mark)."
   ]
  },
  {
   "cell_type": "code",
   "execution_count": 109,
   "metadata": {},
   "outputs": [],
   "source": [
    "def train_val_test_split(X, y, ratio=(0.5,0.25,0.25), shuffle=True):\n",
    "    if shuffle:\n",
    "        Xy = list(zip(X,y))\n",
    "        random.shuffle(Xy)\n",
    "\n",
    "        X = [d[0] for d in Xy]\n",
    "        y = [d[1] for d in Xy]\n",
    "\n",
    "    N = len(y)\n",
    "    \n",
    "    assert len(ratio) == 3 and sum(ratio) == 1.0\n",
    "    \n",
    "    Ntrain = round(N*ratio[0])\n",
    "    Nvalid = round(N*ratio[1])\n",
    "    Ntest = round(N*ratio[2])\n",
    "\n",
    "    Xtrain, ytrain = X[:Ntrain], y[:Ntrain]\n",
    "    Xvalid, yvalid = X[Ntrain:Ntrain+Nvalid], y[Ntrain:Ntrain+Nvalid]\n",
    "    Xtest, ytest = X[Ntrain+Nvalid:], y[Ntrain+Nvalid:]\n",
    "\n",
    "    return Xtrain, Xvalid, Xtest, ytrain, yvalid, ytest"
   ]
  },
  {
   "cell_type": "code",
   "execution_count": 110,
   "metadata": {},
   "outputs": [
    {
     "name": "stdout",
     "output_type": "stream",
     "text": [
      "(TRAINING) Accuracy: 0.7110817941952506, BER: 0.275796342960522\n",
      "(VALIDATION) Accuracy: 0.7216358839050132, BER: 0.2887362637362638\n",
      "(TEST) Accuracy: 0.7305151915455746, BER: 0.2841127922971114\n"
     ]
    }
   ],
   "source": [
    "Xtrain, Xvalid, Xtest, ytrain, yvalid, ytest = train_val_test_split(X,y)\n",
    "\n",
    "model = LogisticRegression(C=1.0, class_weight=\"balanced\", solver=\"lbfgs\")\n",
    "model.fit(Xtrain, ytrain)\n",
    "\n",
    "print(\"(TRAINING) Accuracy: {}, BER: {}\".format(*get_accuracy_and_BER(Xtrain, ytrain, model)))\n",
    "print(\"(VALIDATION) Accuracy: {}, BER: {}\".format(*get_accuracy_and_BER(Xvalid, yvalid, model)))\n",
    "print(\"(TEST) Accuracy: {}, BER: {}\".format(*get_accuracy_and_BER(Xtest, ytest, model)))"
   ]
  },
  {
   "cell_type": "markdown",
   "metadata": {},
   "source": [
    "### Task 4\n",
    "Implement a complete regularization pipeline. Consider values of C in the range {10−4, 10−3, . . . , 103, 104}. Report (or plot) the train, validation, and test BER for each value of C. Based on these values, which classifier would you select (in terms of generalization performance) and why (1 mark)?\n",
    "\n",
    "# Not sure if plot is best here"
   ]
  },
  {
   "cell_type": "code",
   "execution_count": 111,
   "metadata": {},
   "outputs": [
    {
     "data": {
      "image/png": "[encoded data removed]",
      "text/plain": [
       "<Figure size 1152x576 with 1 Axes>"
      ]
     },
     "metadata": {
      "needs_background": "light"
     },
     "output_type": "display_data"
    }
   ],
   "source": [
    "cs = [10**(-4) * 10**(x) for x in range(0, 9)]\n",
    "train_BER, valid_BER, test_BER = [], [], []\n",
    "for c in cs:\n",
    "    model = LogisticRegression(C=c, class_weight=\"balanced\", solver=\"lbfgs\")\n",
    "    model.fit(Xtrain, ytrain)\n",
    "    train_BER.append(get_accuracy_and_BER(Xtrain,ytrain, model)[1])\n",
    "    valid_BER.append(get_accuracy_and_BER(Xvalid,yvalid, model)[1])\n",
    "    test_BER.append(get_accuracy_and_BER(Xtest,ytest, model)[1])\n",
    "\n",
    "\n",
    "\n",
    "x = np.arange(len(cs))  # the label locations\n",
    "width = 0.35  # the width of the bars\n",
    "\n",
    "fig, ax = plt.subplots()\n",
    "fig.set_size_inches(16, 8, forward=True)\n",
    "ax.bar(x - width, train_BER, width, label='Train')\n",
    "ax.bar(x, valid_BER, width, label='Valid')\n",
    "ax.bar(x + width, test_BER, width, label='Test')\n",
    "\n",
    "# Add some text for labels, title and custom x-axis tick labels, etc.\n",
    "ax.set_ylabel('BER')\n",
    "ax.set_title('BER Scores')\n",
    "ax.set_xticks(x)\n",
    "ax.set_xticklabels(cs)\n",
    "ax.legend()\n",
    "fig.tight_layout()\n",
    "plt.show()"
   ]
  },
  {
   "cell_type": "markdown",
   "metadata": {},
   "source": [
    "### Task 5\n",
    "Compute the Fβ scores for β = 1, β = 0.1, and β = 10 for the above classifier, using C = 1 (on the test set) (1 mark)."
   ]
  },
  {
   "cell_type": "code",
   "execution_count": 114,
   "metadata": {},
   "outputs": [
    {
     "name": "stdout",
     "output_type": "stream",
     "text": [
      "(beta=1) F_beta score: 0.0625\n",
      "(beta=0.1) F_beta score: 0.4391304347826087\n",
      "(beta=10) F_beta score: 0.03364423717521652\n"
     ]
    }
   ],
   "source": [
    "\"\"\"\n",
    "Note: In statistical analysis of binary classification, the F1 score (also F-score or F-measure) is a measure of a \n",
    "test’s accuracy. ( a type I error is detecting an effect that is not present, while a type II error is failing to \n",
    "detect an effect that is present. The terms “type I error” and “type II error” are often used interchangeably with \n",
    "the general notion of false positives and false negatives ). Fβ “measures the effectiveness of retrieval with \n",
    "respect to a user who attaches β times as much importance to recall as precision”\n",
    "\"\"\"\n",
    "def f_beta(X, y, model, beta):\n",
    "    TP, FP, TN, FN = get_truth(X, y, model)\n",
    "    return ((1 + beta**2) * TP) / (((1 + beta**2) * TP + beta**2 * FN) + FP)\n",
    "\n",
    "model = LogisticRegression(C=1.0, solver=\"lbfgs\")\n",
    "model.fit(Xtrain, ytrain)\n",
    "for beta in [1, 0.1, 10]:\n",
    "    score = f_beta(Xtest, ytest, model, beta)\n",
    "    print(\"(beta={}) F_beta score: {}\".format(beta, score))\n",
    "\n",
    "    \n",
    "    "
   ]
  },
  {
   "cell_type": "markdown",
   "metadata": {},
   "source": [
    "### Task 6 \n",
    "The sample weight option allows you to manually build a balanced (or imbalanced) classifier by assigning different weights to each datapoint (i.e., each label y in the training set). For example, we would assign equal weight to all samples by fitting:\n",
    "\n",
    "```\n",
    "weights = [1.0 * len(ytrain)]\n",
    "mod = linear_model.LogisticRegression(C=1, solver=’lbfgs’) mod.fit(Xtrain, ytrain, sample_weight=weights)\n",
    "```\n",
    "\n",
    "(note that you should use the lbfgs solver option, and need not set class weight=’balanced’ in\n",
    "this case). Assigning larger weights to (e.g.) positive samples would encourage the logistic regressor to\n",
    "optimize for the True Positive Rate. Using the above code, compute the Fβ score (on the test set) of your\n",
    "(unweighted) classifier, for β = 1 and β = 10. Following this, identify weight vectors that yield better\n",
    "performance (compared to the unweighted vector) in terms of the F1 and F10 scores (2 marks)"
   ]
  },
  {
   "cell_type": "code",
   "execution_count": null,
   "metadata": {},
   "outputs": [],
   "source": []
  }
 ],
 "metadata": {
  "kernelspec": {
   "display_name": "Python 3",
   "language": "python",
   "name": "python3"
  },
  "language_info": {
   "codemirror_mode": {
    "name": "ipython",
    "version": 3
   },
   "file_extension": ".py",
   "mimetype": "text/x-python",
   "name": "python",
   "nbconvert_exporter": "python",
   "pygments_lexer": "ipython3",
   "version": "3.6.8"
  }
 },
 "nbformat": 4,
 "nbformat_minor": 2
}
