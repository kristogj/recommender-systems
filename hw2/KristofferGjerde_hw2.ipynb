{
 "cells": [
  {
   "cell_type": "markdown",
   "metadata": {},
   "source": [
    "# CSE 258, Fall 2019: Homework 2\n",
    "\n",
    "Polish Backruptcy data: https://archive.ics.uci.edu/ml/datasets/Polish+companies+bankruptcy+data\n",
    "\n",
    "## Tasks - Diagnotics (week 2):\n",
    "In the first homework, we had two issues with the classifiers we built. Namely (1) the data were not shuffled, and (2) the labels were highly imbalanced. Both of these made it difficult to effectively build an accurate classifier. Here we’ll try and correct for those issues using the Bankruptcy dataset."
   ]
  },
  {
   "cell_type": "code",
   "execution_count": 1,
   "metadata": {},
   "outputs": [],
   "source": [
    "def warn(*args, **kwargs):\n",
    "    pass\n",
    "import warnings\n",
    "warnings.warn = warn\n",
    "\n",
    "import numpy as np\n",
    "import pandas as pd\n",
    "from sklearn.linear_model import LogisticRegression\n",
    "import random\n",
    "import matplotlib.pyplot as plt\n",
    "random.seed(3)"
   ]
  },
  {
   "cell_type": "markdown",
   "metadata": {},
   "source": [
    "### Task 1 \n",
    "Download and parse the bankruptcy data. We’ll use the 5year.arff file. Code to read the data is available in the stub. Train a logistic regressor (e.g. sklearn.linear model.LogisticRegression) with regularization coefficient C = 1.0. Report the accuracy and Balanced Error Rate (BER) of your classifier (1 mark)."
   ]
  },
  {
   "cell_type": "code",
   "execution_count": 2,
   "metadata": {},
   "outputs": [],
   "source": [
    "f = open(\"./data/5year.arff\", 'r')\n",
    "\n",
    "# Reading in data - removing the first rows with attribute info\n",
    "while not '@data' in f.readline():\n",
    "    pass\n",
    "\n",
    "dataset = []\n",
    "for l in f:\n",
    "    if '?' in l: # Missing entry\n",
    "        continue\n",
    "    l = l.split(',')\n",
    "    values = [1] + [float(x) for x in l]\n",
    "    values[-1] = values[-1] > 0 # Convert to bool\n",
    "    dataset.append(values)\n",
    "\n",
    "# Data setup\n",
    "X = [d[:-1] for d in dataset]\n",
    "y = [d[-1] for d in dataset]"
   ]
  },
  {
   "cell_type": "markdown",
   "metadata": {},
   "source": [
    "$BER = \\frac{1}{2} (FPR + FNR)$   \n",
    "$BER =  1 - \\frac{1}{2} (TPR + TNR)$   \n",
    "$BER = 1 - \\frac{1}{2} \\cdot (\\frac{TP}{TP + FN} + \\frac{TN}{TN + FP})$   \n",
    "\n",
    "BER should be around 0.5 for a random classifier, and 0 for a perfect classifier."
   ]
  },
  {
   "cell_type": "code",
   "execution_count": 3,
   "metadata": {},
   "outputs": [],
   "source": [
    "def get_truth(X, y, model):\n",
    "    pred = model.predict(X)\n",
    "    correct = pred == y\n",
    "    # True positives, false positives, etc.\n",
    "    TP_ = np.logical_and(pred, y)\n",
    "    FP_ = np.logical_and(pred, np.logical_not(y))\n",
    "    TN_ = np.logical_and(np.logical_not(pred), np.logical_not(y))\n",
    "    FN_ = np.logical_and(np.logical_not(pred), y)\n",
    "    return sum(TP_), sum(FP_), sum(TN_), sum(FN_)\n",
    "\n",
    "def get_accuracy_and_BER(X, y, model):\n",
    "    TP, FP, TN, FN = get_truth(X, y, model)\n",
    "    accuracy = (TP + TN) / (TP + FP + TN + FN)\n",
    "    TPR = TP / (TP + FN) # True positive rate\n",
    "    TNR = TN / (TN + FP) # True negative rate\n",
    "    BER = 1 - 0.5 * (TPR + TNR) # Balanced Error Rate\n",
    "    return accuracy, BER"
   ]
  },
  {
   "cell_type": "code",
   "execution_count": 4,
   "metadata": {},
   "outputs": [
    {
     "name": "stdout",
     "output_type": "stream",
     "text": [
      "Model fit and test on whole dataset\n",
      "Accuracy: 0.9656878917848895\n",
      "Balanced Error Rate: 0.4766851431593464\n"
     ]
    }
   ],
   "source": [
    "model = LogisticRegression(C=1.0, solver=\"lbfgs\")\n",
    "model.fit(X, y)\n",
    "accuracy, BER = get_accuracy_and_BER(X, y, model)\n",
    "print(\"Model fit and test on whole dataset\")\n",
    "print(\"Accuracy: {}\".format(accuracy))\n",
    "print(\"Balanced Error Rate: {}\".format(BER))"
   ]
  },
  {
   "cell_type": "markdown",
   "metadata": {},
   "source": [
    "### Task 2\n",
    "Retrain the above model using the class weight=’balanced’ option. Report the accuracy and BER of your new classifier (1 mark)."
   ]
  },
  {
   "cell_type": "code",
   "execution_count": 5,
   "metadata": {},
   "outputs": [
    {
     "name": "stdout",
     "output_type": "stream",
     "text": [
      "Model fit and test on whole dataset\n",
      "Accuracy: 0.6958099637083471\n",
      "Balanced Error Rate: 0.304060477041619\n"
     ]
    }
   ],
   "source": [
    "model = LogisticRegression(C=1.0, solver=\"lbfgs\", class_weight=\"balanced\")\n",
    "model.fit(X, y)\n",
    "accuracy, BER = get_accuracy_and_BER(X, y, model)\n",
    "print(\"Model fit and test on whole dataset\")\n",
    "print(\"Accuracy: {}\".format(accuracy))\n",
    "print(\"Balanced Error Rate: {}\".format(BER))"
   ]
  },
  {
   "cell_type": "markdown",
   "metadata": {},
   "source": [
    "### Task 3\n",
    "Shuffle the data, and split it into training, validation, and test splits, with a 50/25/25% ratio. Using the class weight=’balanced’ option, and training on the training set, report the training/validation/test accuracy and BER (1 mark)."
   ]
  },
  {
   "cell_type": "code",
   "execution_count": 6,
   "metadata": {},
   "outputs": [],
   "source": [
    "def train_val_test_split(X, y, ratio=(0.5,0.25,0.25), shuffle=True):\n",
    "    if shuffle:\n",
    "        Xy = list(zip(X,y))\n",
    "        random.shuffle(Xy)\n",
    "\n",
    "        X = [d[0] for d in Xy]\n",
    "        y = [d[1] for d in Xy]\n",
    "\n",
    "    N = len(y)\n",
    "    \n",
    "    assert len(ratio) == 3 and sum(ratio) == 1.0\n",
    "    \n",
    "    Ntrain = round(N*ratio[0])\n",
    "    Nvalid = round(N*ratio[1])\n",
    "    Ntest = round(N*ratio[2])\n",
    "\n",
    "    Xtrain, ytrain = X[:Ntrain], y[:Ntrain]\n",
    "    Xvalid, yvalid = X[Ntrain:Ntrain+Nvalid], y[Ntrain:Ntrain+Nvalid]\n",
    "    Xtest, ytest = X[Ntrain+Nvalid:], y[Ntrain+Nvalid:]\n",
    "\n",
    "    return Xtrain, Xvalid, Xtest, ytrain, yvalid, ytest"
   ]
  },
  {
   "cell_type": "code",
   "execution_count": 7,
   "metadata": {},
   "outputs": [
    {
     "name": "stdout",
     "output_type": "stream",
     "text": [
      "(TRAINING) Accuracy: 0.6978891820580475, BER: 0.30200286307535573\n",
      "(VALIDATION) Accuracy: 0.6846965699208444, BER: 0.32406151062867483\n",
      "(TEST) Accuracy: 0.7199471598414795, BER: 0.26560356652949246\n"
     ]
    }
   ],
   "source": [
    "Xtrain, Xvalid, Xtest, ytrain, yvalid, ytest = train_val_test_split(X,y)\n",
    "\n",
    "model = LogisticRegression(C=1.0, class_weight=\"balanced\", solver=\"lbfgs\")\n",
    "model.fit(Xtrain, ytrain)\n",
    "\n",
    "print(\"(TRAINING) Accuracy: {}, BER: {}\".format(*get_accuracy_and_BER(Xtrain, ytrain, model)))\n",
    "print(\"(VALIDATION) Accuracy: {}, BER: {}\".format(*get_accuracy_and_BER(Xvalid, yvalid, model)))\n",
    "print(\"(TEST) Accuracy: {}, BER: {}\".format(*get_accuracy_and_BER(Xtest, ytest, model)))"
   ]
  },
  {
   "cell_type": "markdown",
   "metadata": {},
   "source": [
    "### Task 4\n",
    "Implement a complete regularization pipeline. Consider values of C in the range {10−4, 10−3, . . . , 10^3, 10^4}. Report (or plot) the train, validation, and test BER for each value of C. Based on these values, which classifier would you select (in terms of generalization performance) and why (1 mark)?"
   ]
  },
  {
   "cell_type": "code",
   "execution_count": 8,
   "metadata": {},
   "outputs": [
    {
     "data": {
      "image/png": "[encoded data removed]",
      "text/plain": [
       "<Figure size 1152x576 with 1 Axes>"
      ]
     },
     "metadata": {
      "needs_background": "light"
     },
     "output_type": "display_data"
    }
   ],
   "source": [
    "cs = [10**(-4) * 10**(x) for x in range(0, 9)]\n",
    "train_BER, valid_BER, test_BER = [], [], []\n",
    "for c in cs:\n",
    "    model = LogisticRegression(C=c, class_weight=\"balanced\", solver=\"lbfgs\")\n",
    "    model.fit(Xtrain, ytrain)\n",
    "    train_BER.append(get_accuracy_and_BER(Xtrain,ytrain, model)[1])\n",
    "    valid_BER.append(get_accuracy_and_BER(Xvalid,yvalid, model)[1])\n",
    "    test_BER.append(get_accuracy_and_BER(Xtest,ytest, model)[1])\n",
    "\n",
    "\n",
    "\n",
    "x = np.arange(0, len(cs))\n",
    "plt.figure(figsize=(16,8))\n",
    "plt.plot(x, train_BER, marker=\"o\",label=\"Train BER\")\n",
    "plt.plot(x, valid_BER, marker=\"o\", label=\"Valid BER\")\n",
    "plt.plot(x, test_BER, marker=\"o\", label=\"Test BER\")\n",
    "plt.xticks(ticks=x, labels=cs)\n",
    "plt.legend(loc=\"best\")\n",
    "plt.xlabel(\"C\")\n",
    "plt.ylabel(\"BER\")\n",
    "plt.gca().xaxis.grid(True)\n",
    "plt.show()"
   ]
  },
  {
   "cell_type": "markdown",
   "metadata": {},
   "source": [
    "We should choose the classifier that reports the lowest BER on the valdation set. From the graph we can see that the lowest BER for the valdation set is when C = 0.0001, but by looking at the test graph, we see that it performes best when C is set to be equal 10. If we are going to make our choice based on what is shown by the validation set, we choose 0.0001 as the best option for C. "
   ]
  },
  {
   "cell_type": "markdown",
   "metadata": {},
   "source": [
    "### Task 5\n",
    "Compute the Fβ scores for β = 1, β = 0.1, and β = 10 for the above classifier, using C = 1 (on the test set) (1 mark).\n",
    "\n",
    "$F_\\beta = (1 + \\beta^2) \\cdot \\frac{precision \\cdot recall}{\\beta^2precision + recall}$   \n",
    "where  \n",
    "$Precision = \\frac{TP}{TP + FP}$ & \n",
    "$Recall = \\frac{TP}{TP + FN}$\n",
    "\n",
    "If precision is more important you should use a low beta, and if recall is more important you should use a high beta.\n",
    "\n",
    "Note: In statistical analysis of binary classification, the F1 score (also F-score or F-measure) is a measure of a \n",
    "test’s accuracy. ( a type I error is detecting an effect that is not present, while a type II error is failing to \n",
    "detect an effect that is present. The terms “type I error” and “type II error” are often used interchangeably with \n",
    "the general notion of false positives and false negatives ). Fβ “measures the effectiveness of retrieval with \n",
    "respect to a user who attaches β times as much importance to recall as precision”"
   ]
  },
  {
   "cell_type": "code",
   "execution_count": 9,
   "metadata": {},
   "outputs": [
    {
     "name": "stdout",
     "output_type": "stream",
     "text": [
      "(beta=1) F_beta score: 0.12121212121212122\n",
      "(beta=0.1) F_beta score: 0.38257575757575757\n",
      "(beta=10) F_beta score: 0.07201426024955437\n"
     ]
    }
   ],
   "source": [
    "# from sklearn.metrics import fbeta_score\n",
    "def f_beta(X, y, model, beta):\n",
    "    TP, FP, TN, FN = get_truth(X, y, model)\n",
    "    precision = TP / (TP + FP)\n",
    "    recall = TP / (TP + FN)\n",
    "    return ((1 + beta**2) * (precision*recall) / (beta**2*precision + recall))\n",
    "\n",
    "model = LogisticRegression(C=1.0, solver=\"lbfgs\")\n",
    "model.fit(Xtrain, ytrain)\n",
    "pred = model.predict(Xtest)\n",
    "for beta in [1, 0.1, 10]:\n",
    "    score = f_beta(Xtest, ytest, model, beta)\n",
    "    # score = fbeta_score(ytest, pred, beta) Gives same results with sklearn\n",
    "    print(\"(beta={}) F_beta score: {}\".format(beta, score))\n"
   ]
  },
  {
   "cell_type": "markdown",
   "metadata": {},
   "source": [
    "### Task 6 \n",
    "The sample weight option allows you to manually build a balanced (or imbalanced) classifier by assigning different weights to each datapoint (i.e., each label y in the training set). For example, we would assign equal weight to all samples by fitting:\n",
    "\n",
    "```\n",
    "weights = [1.0 * len(ytrain)]\n",
    "mod = linear_model.LogisticRegression(C=1, solver=’lbfgs’) mod.fit(Xtrain, ytrain, sample_weight=weights)\n",
    "```\n",
    "\n",
    "(note that you should use the lbfgs solver option, and need not set class weight=’balanced’ in\n",
    "this case). Assigning larger weights to (e.g.) positive samples would encourage the logistic regressor to\n",
    "optimize for the True Positive Rate. Using the above code, compute the Fβ score (on the test set) of your\n",
    "(unweighted) classifier, for β = 1 and β = 10. Following this, identify weight vectors that yield better\n",
    "performance (compared to the unweighted vector) in terms of the F1 and F10 scores (2 marks)"
   ]
  },
  {
   "cell_type": "code",
   "execution_count": 19,
   "metadata": {},
   "outputs": [
    {
     "name": "stdout",
     "output_type": "stream",
     "text": [
      "(beta=1, unweighted) F_beta score: 0.12121212121212122\n",
      "(beta=10, unweighted) F_beta score: 0.07201426024955437\n",
      "(beta=1, weighted) F_beta score: 0.25757575757575757\n",
      "(beta=10, weighted) F_beta score: 0.5912534435261707\n",
      "\n"
     ]
    }
   ],
   "source": [
    "# Unweighted classifier\n",
    "model = LogisticRegression(C=1.0, solver=\"lbfgs\")\n",
    "model.fit(Xtrain, ytrain)\n",
    "\n",
    "for beta in [1, 10]:\n",
    "    score = f_beta(Xtest, ytest, model, beta)\n",
    "    print(\"(beta={}, unweighted) F_beta score: {}\".format(beta, score))\n",
    "\n",
    "# Make some assumptions about how each sample, an example is asigning larger weights to \n",
    "# e.g. positive samples would encourage the logistic regressor to optimize for the\n",
    "# True Positive Rate.\n",
    "ratio = 0.95\n",
    "\n",
    "weights = [ratio if label else 1-ratio for label in ytrain]\n",
    "model = LogisticRegression(C=1.0, solver=\"lbfgs\")\n",
    "model.fit(Xtrain, ytrain, sample_weight=weights)\n",
    "\n",
    "for beta in [1, 10]:\n",
    "    score = f_beta(Xtest, ytest, model, beta)\n",
    "    print(\"(beta={}, weighted) F_beta score: {}\".format(beta, score))\n",
    "print()\n"
   ]
  },
  {
   "cell_type": "markdown",
   "metadata": {},
   "source": [
    "A weight ratio of 0.95 for True labels seems to be a reasonable value. We get a higher F1 and F10 score which means that we are getting better results for both presicion and recall. By increasing the ratio even more, we will do even better on recal, but this will affect the precission to go down, which makes sence. You have to decide what is most important for your model; precission (the fraction of relevant instances among the retrieved instances) or recall (the fraction of the total amount of relevant instances that were actually retrieved)"
   ]
  },
  {
   "cell_type": "markdown",
   "metadata": {},
   "source": [
    "## Tasks - Dimensionality Reduction (week 3):\n",
    "Next we’ll consider using PCA to build a lower-dimensional feature vector to do prediction."
   ]
  },
  {
   "cell_type": "code",
   "execution_count": 20,
   "metadata": {},
   "outputs": [],
   "source": [
    "import scipy.optimize\n",
    "import random\n",
    "from sklearn.decomposition import PCA\n",
    "from collections import defaultdict"
   ]
  },
  {
   "cell_type": "markdown",
   "metadata": {},
   "source": [
    "### Task 7\n",
    "Following the stub code, compute the PCA basis on the training set. Report the first PCA component\n",
    "(i.e., pca.components [0]) (1 mark)."
   ]
  },
  {
   "cell_type": "code",
   "execution_count": 21,
   "metadata": {},
   "outputs": [
    {
     "name": "stdout",
     "output_type": "stream",
     "text": [
      "First PCA component:\n",
      " [-5.13677730e-19  1.71415335e-07 -7.56809402e-07  8.93429002e-07\n",
      "  4.56333172e-06  2.11142581e-03  7.18604285e-07  1.93926201e-07\n",
      "  5.22832850e-06 -5.00680231e-07  6.90386976e-07  1.41939772e-07\n",
      "  1.07342084e-06 -5.41089021e-06  1.93564447e-07  3.35059096e-03\n",
      "  1.03688064e-06  5.84540069e-06  6.06035215e-08  2.68542628e-07\n",
      "  1.86083514e-05  2.23716898e-08  1.25273278e-07  2.42397290e-07\n",
      "  4.23787533e-07  8.87867319e-07  9.06633416e-07 -5.03192530e-05\n",
      "  1.88265640e-06  3.87204723e-06 -1.29643683e-06  2.42706535e-07\n",
      " -2.44089242e-04  3.65488804e-06 -2.07544846e-06  1.15319121e-07\n",
      " -6.65021815e-07  4.94819674e-03  6.01908946e-07  1.72473553e-07\n",
      "  2.57476360e-06 -1.72547485e-06  1.03734514e-07  4.10472953e-05\n",
      "  2.24369027e-05 -2.86133990e-06  3.65473372e-06  2.72545581e-05\n",
      "  1.75123150e-07  2.22116764e-07  4.14763532e-06 -6.13148328e-07\n",
      " -6.50785456e-07 -4.44899253e-06  1.79688686e-06  9.99979847e-01\n",
      "  1.39800723e-07  3.73174151e-07 -2.19633018e-07  9.44642971e-08\n",
      " -1.50716439e-04 -1.35188950e-05 -2.18192869e-04  4.67731394e-06\n",
      " -1.02905490e-05]\n"
     ]
    }
   ],
   "source": [
    "# Code Here\n",
    "pca = PCA()\n",
    "pca.fit(Xtrain)\n",
    "print(\"First PCA component:\\n\", pca.components_[0])"
   ]
  },
  {
   "cell_type": "markdown",
   "metadata": {},
   "source": [
    "### Task 8\n",
    "Next we’ll train a model using a low-dimensional feature vector. By representing the data in the above\n",
    "basis, i.e.:\n",
    "\n",
    "```\n",
    "Xpca_train = numpy.matmul(Xtrain, pca.components_.T) \n",
    "Xpca_valid = numpy.matmul(Xvalid, pca.components_.T) \n",
    "Xpca_test = numpy.matmul(Xtest, pca.components_.T)\n",
    "```\n",
    "\n",
    "compute the validation and test BER of a model that uses just the first N components (i.e., dimensions) for N = 5, 10, . . . , 25, 30. Again use class weight=’balanced’ and C = 1.0 (2 marks)."
   ]
  },
  {
   "cell_type": "code",
   "execution_count": 22,
   "metadata": {},
   "outputs": [
    {
     "name": "stdout",
     "output_type": "stream",
     "text": [
      "(N=n5) BER_valid: 0.3426374620404471\n",
      "(N=n5) BER_test: 0.28698804624730556\n",
      "\n",
      "(N=n10) BER_valid: 0.3809846869548362\n",
      "(N=n10) BER_test: 0.3760533019792278\n",
      "\n",
      "(N=n15) BER_valid: 0.31931252826775225\n",
      "(N=n15) BER_test: 0.260116598079561\n",
      "\n",
      "(N=n20) BER_valid: 0.3213478064224333\n",
      "(N=n20) BER_test: 0.25531550068587106\n",
      "\n",
      "(N=n25) BER_valid: 0.3417651999741551\n",
      "(N=n25) BER_test: 0.25462962962962965\n",
      "\n",
      "(N=n30) BER_valid: 0.343122052077276\n",
      "(N=n30) BER_test: 0.25531550068587106\n",
      "\n"
     ]
    }
   ],
   "source": [
    "N_components = np.arange(5, 35, 5)\n",
    "for n in N_components:\n",
    "    \n",
    "    # Transform data\n",
    "    Xpca_train = np.matmul(Xtrain, pca.components_[:n].T) \n",
    "    Xpca_valid = np.matmul(Xvalid, pca.components_[:n].T) \n",
    "    Xpca_test = np.matmul(Xtest, pca.components_[:n].T)\n",
    "    \n",
    "    # Fit model\n",
    "    model = LogisticRegression(C=1.0, solver=\"lbfgs\", class_weight=\"balanced\")\n",
    "    model.fit(Xpca_train, ytrain)\n",
    "    \n",
    "    acc_valid, BER_valid = get_accuracy_and_BER(Xpca_valid, yvalid, model)\n",
    "    acc_test, BER_test = get_accuracy_and_BER(Xpca_test, ytest, model)\n",
    "    \n",
    "    print(\"(N=n{}) BER_valid: {}\".format(n, BER_valid))\n",
    "    print(\"(N=n{}) BER_test: {}\\n\".format(n, BER_test))\n",
    "    "
   ]
  },
  {
   "cell_type": "code",
   "execution_count": null,
   "metadata": {},
   "outputs": [],
   "source": []
  }
 ],
 "metadata": {
  "kernelspec": {
   "display_name": "Python 3",
   "language": "python",
   "name": "python3"
  },
  "language_info": {
   "codemirror_mode": {
    "name": "ipython",
    "version": 3
   },
   "file_extension": ".py",
   "mimetype": "text/x-python",
   "name": "python",
   "nbconvert_exporter": "python",
   "pygments_lexer": "ipython3",
   "version": "3.6.8"
  }
 },
 "nbformat": 4,
 "nbformat_minor": 2
}
