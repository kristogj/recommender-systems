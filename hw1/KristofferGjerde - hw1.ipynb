{
 "cells": [
  {
   "cell_type": "markdown",
   "metadata": {},
   "source": [
    "# CSE 258, Fall 2019: Homework 1\n",
    "## Kristoffer Gjerde\n",
    "\n",
    "Dataset is downloaded from https://s3.amazonaws.com/amazon-reviews-pds/tsv/amazon_reviews_us_Gift_Card_v1_00.tsv.gz   \n",
    "It is a TSV formated dataset, including reviews from one of the smaller Amazon categories. "
   ]
  },
  {
   "cell_type": "code",
   "execution_count": 1,
   "metadata": {},
   "outputs": [],
   "source": [
    "import numpy as np\n",
    "import urllib\n",
    "import scipy.optimize\n",
    "import random\n",
    "import gzip"
   ]
  },
  {
   "cell_type": "code",
   "execution_count": 2,
   "metadata": {},
   "outputs": [],
   "source": [
    "path = \"./resources/amazon_reviews_us_Gift_Card_v1_00.tsv.gz\"\n",
    "f = gzip.open(path, \"rt\", encoding=\"utf8\")"
   ]
  },
  {
   "cell_type": "code",
   "execution_count": 3,
   "metadata": {},
   "outputs": [],
   "source": [
    "dataset = []\n",
    "header = f.readline().strip().split(\"\\t\")\n",
    "for line in f:\n",
    "    line = line.split(\"\\t\")\n",
    "    d = dict(zip(header, line))\n",
    "    d['star_rating'] = int(d['star_rating'])\n",
    "    # Here you can also select only the fields you want to use\n",
    "    #fields = [...]\n",
    "    #d2 = {field: d[field] for field in fields}\n",
    "    dataset.append(d)"
   ]
  },
  {
   "cell_type": "code",
   "execution_count": 4,
   "metadata": {},
   "outputs": [
    {
     "data": {
      "text/plain": [
       "{'marketplace': 'US',\n",
       " 'customer_id': '24371595',\n",
       " 'review_id': 'R27ZP1F1CD0C3Y',\n",
       " 'product_id': 'B004LLIL5A',\n",
       " 'product_parent': '346014806',\n",
       " 'product_title': 'Amazon eGift Card - Celebrate',\n",
       " 'product_category': 'Gift Card',\n",
       " 'star_rating': 5,\n",
       " 'helpful_votes': '0',\n",
       " 'total_votes': '0',\n",
       " 'vine': 'N',\n",
       " 'verified_purchase': 'Y',\n",
       " 'review_headline': 'Five Stars',\n",
       " 'review_body': 'Great birthday gift for a young adult.',\n",
       " 'review_date': '2015-08-31\\n'}"
      ]
     },
     "execution_count": 4,
     "metadata": {},
     "output_type": "execute_result"
    }
   ],
   "source": [
    "dataset[0]"
   ]
  },
  {
   "cell_type": "code",
   "execution_count": null,
   "metadata": {},
   "outputs": [],
   "source": []
  },
  {
   "cell_type": "markdown",
   "metadata": {},
   "source": [
    "### Task 1 \n",
    "What is the distribution of ratings in the dataset? That is, how many 1-star, 2-star, 3-star (etc.) reviews are there? You may write out the values or include a simple plot."
   ]
  },
  {
   "cell_type": "code",
   "execution_count": 5,
   "metadata": {},
   "outputs": [
    {
     "data": {
      "text/plain": [
       "defaultdict(int, {5: 129709, 1: 4793, 4: 9859, 2: 1569, 3: 3156})"
      ]
     },
     "execution_count": 5,
     "metadata": {},
     "output_type": "execute_result"
    }
   ],
   "source": [
    "from collections import defaultdict\n",
    "# First let us get the counts\n",
    "ratings_count = defaultdict(int)\n",
    "for d in dataset:\n",
    "    ratings_count[d['star_rating']] += 1\n",
    "ratings_count"
   ]
  },
  {
   "cell_type": "code",
   "execution_count": 6,
   "metadata": {},
   "outputs": [
    {
     "data": {
      "text/plain": [
       "<Figure size 640x480 with 1 Axes>"
      ]
     },
     "metadata": {},
     "output_type": "display_data"
    }
   ],
   "source": [
    "import matplotlib.pyplot as plt\n",
    "def categorical_plot(names, *dicts):\n",
    "    #plt.figure(figsize=(10, 5))\n",
    "    plt.title('Distribution of ratings')\n",
    "    for i, d in enumerate(dicts):\n",
    "        items = sorted(d.items()) \n",
    "        category, value = zip(*items)\n",
    "        plt.bar(category, value, width=0.5, label=names[i])\n",
    "    plt.legend(loc='best')\n",
    "    plt.show()\n",
    "\n",
    "categorical_plot([\"unfiltered\"], ratings_count)"
   ]
  },
  {
   "cell_type": "markdown",
   "metadata": {},
   "source": [
    "### Task 2\n",
    "Repeat the above question, but generate the distribution (a) only for reviews that are ‘verified,’ and (b) only for reviews that are not verified. Write out the values or generate a plot to show\n",
    "the difference between these distributions."
   ]
  },
  {
   "cell_type": "code",
   "execution_count": 7,
   "metadata": {},
   "outputs": [
    {
     "data": {
      "text/plain": [
       "(defaultdict(int, {5: 118974, 1: 4000, 4: 8940, 2: 1344, 3: 2784}),\n",
       " defaultdict(int, {5: 10735, 4: 919, 3: 372, 1: 793, 2: 225}))"
      ]
     },
     "execution_count": 7,
     "metadata": {},
     "output_type": "execute_result"
    }
   ],
   "source": [
    "ratings_count_verified, ratings_count_notverified = defaultdict(int), defaultdict(int)\n",
    "for d in dataset:\n",
    "    if d['verified_purchase'] == 'Y':\n",
    "        ratings_count_verified[d['star_rating']] += 1\n",
    "    else:\n",
    "        ratings_count_notverified[d['star_rating']] += 1\n",
    "ratings_count_verified, ratings_count_notverified"
   ]
  },
  {
   "cell_type": "code",
   "execution_count": 8,
   "metadata": {},
   "outputs": [
    {
     "data": {
      "image/png": "[encoded data removed]",
      "text/plain": [
       "<Figure size 432x288 with 1 Axes>"
      ]
     },
     "metadata": {
      "needs_background": "light"
     },
     "output_type": "display_data"
    }
   ],
   "source": [
    "categorical_plot([\"verified\", \"not verified\"], ratings_count_verified, ratings_count_notverified)"
   ]
  },
  {
   "cell_type": "markdown",
   "metadata": {},
   "source": [
    "### Task 3\n",
    "Train a simple predictor to predict the star rating using two features.\n",
    "Report the values of θ0, θ1, and θ2. Briefly describe your interpretation of these values, i.e., what do θ0,\n",
    "θ1, and θ2 represent? Explain these in terms of the features and labels, e.g. if the coefficient of ‘review\n",
    "length’ is negative, what would that say about verified versus unverified reviews "
   ]
  },
  {
   "cell_type": "code",
   "execution_count": 9,
   "metadata": {},
   "outputs": [
    {
     "name": "stderr",
     "output_type": "stream",
     "text": [
      "/Library/Frameworks/Python.framework/Versions/3.6/lib/python3.6/site-packages/ipykernel_launcher.py:7: FutureWarning: `rcond` parameter will change to the default of machine precision times ``max(M, N)`` where M and N are the input matrix dimensions.\n",
      "To use the future default and silence this warning we advise to pass `rcond=None`, to keep using the old, explicitly pass `rcond=-1`.\n",
      "  import sys\n"
     ]
    },
    {
     "data": {
      "text/plain": [
       "array([ 4.84461817e+00,  5.04148265e-02, -1.24659895e-03])"
      ]
     },
     "execution_count": 9,
     "metadata": {},
     "output_type": "execute_result"
    }
   ],
   "source": [
    "def feature(datum):\n",
    "    return [1, datum['verified_purchase'] == 'Y', len(datum['review_body'])]\n",
    "    \n",
    "    \n",
    "X = [feature(d) for d in dataset]\n",
    "y = [d['star_rating'] for d in dataset]\n",
    "theta,residuals,rank,s = np.linalg.lstsq(X, y)\n",
    "theta"
   ]
  },
  {
   "cell_type": "markdown",
   "metadata": {},
   "source": [
    "### Task 4\n",
    "Train another predictor that only uses one feature. Report the values of θ0 and θ1. Note that coefficient you found here might be quite different (i.e., much\n",
    "larger or smaller) than the one from Question 3, even though these coefficients refer to the same feature.\n",
    "Provide an explanation as to why these coefficients might vary so significantly"
   ]
  },
  {
   "cell_type": "code",
   "execution_count": 10,
   "metadata": {},
   "outputs": [
    {
     "name": "stderr",
     "output_type": "stream",
     "text": [
      "/Library/Frameworks/Python.framework/Versions/3.6/lib/python3.6/site-packages/ipykernel_launcher.py:6: FutureWarning: `rcond` parameter will change to the default of machine precision times ``max(M, N)`` where M and N are the input matrix dimensions.\n",
      "To use the future default and silence this warning we advise to pass `rcond=None`, to keep using the old, explicitly pass `rcond=-1`.\n",
      "  \n"
     ]
    },
    {
     "data": {
      "text/plain": [
       "array([4.57758356, 0.16852426])"
      ]
     },
     "execution_count": 10,
     "metadata": {},
     "output_type": "execute_result"
    }
   ],
   "source": [
    "def feature(datum):\n",
    "    return [1, datum['verified_purchase'] == 'Y']\n",
    "    \n",
    "X = [feature(d) for d in dataset]\n",
    "y = [d['star_rating'] for d in dataset]\n",
    "theta,residuals,rank,s = np.linalg.lstsq(X, y)\n",
    "theta"
   ]
  },
  {
   "cell_type": "markdown",
   "metadata": {},
   "source": [
    "### Task 5\n",
    "Split the data into two fractions – the first 90% for training, and the remaining 10% testing (based on\n",
    "the order they appear in the file). Train the same model as in Question 4 on the training set only. What\n",
    "is the model’s MSE on the training and on the test set?"
   ]
  },
  {
   "cell_type": "code",
   "execution_count": 11,
   "metadata": {},
   "outputs": [
    {
     "name": "stderr",
     "output_type": "stream",
     "text": [
      "/Library/Frameworks/Python.framework/Versions/3.6/lib/python3.6/site-packages/ipykernel_launcher.py:3: FutureWarning: `rcond` parameter will change to the default of machine precision times ``max(M, N)`` where M and N are the input matrix dimensions.\n",
      "To use the future default and silence this warning we advise to pass `rcond=None`, to keep using the old, explicitly pass `rcond=-1`.\n",
      "  This is separate from the ipykernel package so we can avoid doing imports until\n"
     ]
    },
    {
     "data": {
      "text/plain": [
       "(0.6606575613336154, 0.9375979578417207)"
      ]
     },
     "execution_count": 11,
     "metadata": {},
     "output_type": "execute_result"
    }
   ],
   "source": [
    "from sklearn.model_selection import train_test_split\n",
    "X_train, X_test, y_train, y_test = train_test_split(X, y, test_size=0.10, shuffle=False)\n",
    "theta,residuals,rank,s = np.linalg.lstsq(X_train, y_train)\n",
    "\n",
    "def predict(thetas, features):\n",
    "    return thetas[0] + sum(thetas[x] * features[x-1] for x in range(1, len(thetas)))\n",
    "\n",
    "def mse_train_and_test(theta, X_train, X_test):\n",
    "    y_train_pred = [predict(theta, features) for features in X_train]\n",
    "    y_test_pred = [predict(theta, features) for features in X_test]\n",
    "\n",
    "    l_train, l_test = len(X_train), len(X_test)\n",
    "    mse_train = sum((y_train_pred[x] - y_train[x])**2 for x in range(l_train)) / l_train\n",
    "    mse_test = sum((y_test_pred[x] - y_test[x])**2 for x in range(l_test)) / l_test\n",
    "    return mse_train, mse_test\n",
    "\n",
    "mse_train, mse_test = mse_train_and_test(theta, X_train, X_test)\n",
    "mse_train, mse_test\n"
   ]
  },
  {
   "cell_type": "markdown",
   "metadata": {},
   "source": [
    "### Task 6\n",
    "Using the test set from Question 5, report the Mean Absolute Error (MAE) and R2\n",
    "coefficient for your predictor (on the test set).\n",
    "\n"
   ]
  },
  {
   "cell_type": "code",
   "execution_count": 15,
   "metadata": {},
   "outputs": [
    {
     "data": {
      "text/plain": [
       "(0.5201189466718115, 0.06240204215827927)"
      ]
     },
     "execution_count": 15,
     "metadata": {},
     "output_type": "execute_result"
    }
   ],
   "source": [
    "l_train, l_test = len(X_train), len(X_test)\n",
    "y_test_pred = [predict(theta, features) for features in X_test]\n",
    "\n",
    "# Mean Absolute Error\n",
    "mae_test = sum(abs((y_test_pred[x] - y_test[x])) for x in range(l_test)) / l_test\n",
    "\n",
    "# R^2 Coefficient\n",
    "mean_pred = sum(y_test_pred) / l_test\n",
    "var = sum((y_test_pred[x] - mean_pred)**2 for x in range(l_test)) / l_test\n",
    "r2_test = 1 - (mse_test)\n",
    "\n",
    "mae_test, r2_test\n"
   ]
  },
  {
   "cell_type": "markdown",
   "metadata": {},
   "source": [
    "### Task 7\n",
    "Repeat the above experiment, varying the size of the training and test fractions between\n",
    "5% and 95% for training (using the complement for testing). Show how the training and test error vary\n",
    "as a function of the training set size (again using a simple plot or table). Does the size of the training\n",
    "set make a significant difference in testing performance? Comment on why it might or might not make\n",
    "a significant difference in this instance "
   ]
  },
  {
   "cell_type": "code",
   "execution_count": 19,
   "metadata": {},
   "outputs": [
    {
     "name": "stderr",
     "output_type": "stream",
     "text": [
      "/Library/Frameworks/Python.framework/Versions/3.6/lib/python3.6/site-packages/ipykernel_launcher.py:9: FutureWarning: `rcond` parameter will change to the default of machine precision times ``max(M, N)`` where M and N are the input matrix dimensions.\n",
      "To use the future default and silence this warning we advise to pass `rcond=None`, to keep using the old, explicitly pass `rcond=-1`.\n",
      "  if __name__ == '__main__':\n"
     ]
    },
    {
     "data": {
      "text/plain": [
       "([3.1554436208840472e-30, 0.11111111111111091],\n",
       " [0.7599307763512697, 0.7599495562695787])"
      ]
     },
     "execution_count": 19,
     "metadata": {},
     "output_type": "execute_result"
    }
   ],
   "source": [
    "train_sizes = np.arange(5, 100, 5)\n",
    "\n",
    "traning_errors, test_errors = [], []\n",
    "for train_size in train_sizes:\n",
    "    # Split the data\n",
    "    X_train, X_test, y_train, y_test = train_test_split(X, y, test_size=(1-train_size)) # Uses shuffle this time\n",
    "    \n",
    "    # Train the model\n",
    "    theta,residuals,rank,s = np.linalg.lstsq(X_train, y_train)\n",
    "    \n",
    "    # Calculate the error\n",
    "    mse_train, mse_test = mse_train_and_test(theta, X_train, X_test)\n",
    "    traning_errors.append(mse_train)\n",
    "    test_errors.append(mse_test)\n",
    "traning_errors[:2], test_errors[:2]\n",
    "    "
   ]
  },
  {
   "cell_type": "code",
   "execution_count": 20,
   "metadata": {},
   "outputs": [
    {
     "data": {
      "image/png": "[encoded data removed]",
      "text/plain": [
       "<Figure size 1080x360 with 1 Axes>"
      ]
     },
     "metadata": {
      "needs_background": "light"
     },
     "output_type": "display_data"
    }
   ],
   "source": [
    "# Plot them to see how the MSE changes as the size of the trnaingdata change\n",
    "plt.figure(figsize=(15,5))\n",
    "plt.plot(train_sizes, traning_errors, label=\"MSE Trainingdata\")\n",
    "plt.plot(train_sizes, test_errors, label=\"MSE Testdata\")\n",
    "plt.legend(loc='best')\n",
    "axs = plt.gca()\n",
    "axs.xaxis.grid(True)\n",
    "axs.set_xlabel('Traning data size (%)')\n",
    "axs.set_ylabel('MSE')\n",
    "plt.xticks(train_sizes)\n",
    "plt.show()"
   ]
  },
  {
   "cell_type": "code",
   "execution_count": null,
   "metadata": {},
   "outputs": [],
   "source": []
  }
 ],
 "metadata": {
  "kernelspec": {
   "display_name": "Python 3",
   "language": "python",
   "name": "python3"
  },
  "language_info": {
   "codemirror_mode": {
    "name": "ipython",
    "version": 3
   },
   "file_extension": ".py",
   "mimetype": "text/x-python",
   "name": "python",
   "nbconvert_exporter": "python",
   "pygments_lexer": "ipython3",
   "version": "3.6.8"
  }
 },
 "nbformat": 4,
 "nbformat_minor": 2
}
