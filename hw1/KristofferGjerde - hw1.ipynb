{
 "cells": [
  {
   "cell_type": "markdown",
   "metadata": {},
   "source": [
    "# CSE 258, Fall 2019: Homework 1\n",
    "## Kristoffer Gjerde\n",
    "\n",
    "Dataset is downloaded from https://s3.amazonaws.com/amazon-reviews-pds/tsv/amazon_reviews_us_Gift_Card_v1_00.tsv.gz   \n",
    "It is a TSV formated dataset, including reviews from one of the smaller Amazon categories. "
   ]
  },
  {
   "cell_type": "code",
   "execution_count": 2,
   "metadata": {},
   "outputs": [],
   "source": [
    "import numpy as np\n",
    "import urllib\n",
    "import scipy.optimize\n",
    "import random\n",
    "import gzip"
   ]
  },
  {
   "cell_type": "code",
   "execution_count": 3,
   "metadata": {},
   "outputs": [],
   "source": [
    "path = \"./resources/amazon_reviews_us_Gift_Card_v1_00.tsv.gz\"\n",
    "f = gzip.open(path, \"rt\", encoding=\"utf8\")"
   ]
  },
  {
   "cell_type": "code",
   "execution_count": 4,
   "metadata": {},
   "outputs": [],
   "source": [
    "dataset = []\n",
    "header = f.readline().strip().split(\"\\t\")\n",
    "for line in f:\n",
    "    line = line.split(\"\\t\")\n",
    "    d = dict(zip(header, line))\n",
    "    d['star_rating'] = int(d['star_rating'])\n",
    "    # Here you can also select only the fields you want to use\n",
    "    #fields = [...]\n",
    "    #d2 = {field: d[field] for field in fields}\n",
    "    dataset.append(d)"
   ]
  },
  {
   "cell_type": "code",
   "execution_count": 5,
   "metadata": {},
   "outputs": [
    {
     "data": {
      "text/plain": [
       "{'marketplace': 'US',\n",
       " 'customer_id': '24371595',\n",
       " 'review_id': 'R27ZP1F1CD0C3Y',\n",
       " 'product_id': 'B004LLIL5A',\n",
       " 'product_parent': '346014806',\n",
       " 'product_title': 'Amazon eGift Card - Celebrate',\n",
       " 'product_category': 'Gift Card',\n",
       " 'star_rating': 5,\n",
       " 'helpful_votes': '0',\n",
       " 'total_votes': '0',\n",
       " 'vine': 'N',\n",
       " 'verified_purchase': 'Y',\n",
       " 'review_headline': 'Five Stars',\n",
       " 'review_body': 'Great birthday gift for a young adult.',\n",
       " 'review_date': '2015-08-31\\n'}"
      ]
     },
     "execution_count": 5,
     "metadata": {},
     "output_type": "execute_result"
    }
   ],
   "source": [
    "dataset[0]"
   ]
  },
  {
   "cell_type": "markdown",
   "metadata": {},
   "source": [
    "# Regression (week 1)"
   ]
  },
  {
   "cell_type": "markdown",
   "metadata": {},
   "source": [
    "### Task 1 \n",
    "What is the distribution of ratings in the dataset? That is, how many 1-star, 2-star, 3-star (etc.) reviews are there? You may write out the values or include a simple plot."
   ]
  },
  {
   "cell_type": "code",
   "execution_count": 66,
   "metadata": {},
   "outputs": [
    {
     "name": "stdout",
     "output_type": "stream",
     "text": [
      "Number of ratings per star rating: defaultdict(<class 'int'>, {5: 129709, 1: 4793, 4: 9859, 2: 1569, 3: 3156})\n"
     ]
    }
   ],
   "source": [
    "from collections import defaultdict\n",
    "# Count the number of ratings for each star rating\n",
    "ratings_count = defaultdict(int)\n",
    "for d in dataset:\n",
    "    ratings_count[d['star_rating']] += 1\n",
    "print(\"Number of ratings per star rating: {}\".format(ratings_count))"
   ]
  },
  {
   "cell_type": "code",
   "execution_count": 12,
   "metadata": {},
   "outputs": [
    {
     "data": {
      "image/png": "[encoded data removed]",
      "text/plain": [
       "<Figure size 720x360 with 1 Axes>"
      ]
     },
     "metadata": {
      "needs_background": "light"
     },
     "output_type": "display_data"
    }
   ],
   "source": [
    "import matplotlib.pyplot as plt\n",
    "def categorical_plot(names, *dicts):\n",
    "    plt.figure(figsize=(10, 5))\n",
    "    plt.title('Distribution of start ratings')\n",
    "    for i, d in enumerate(dicts):\n",
    "        items = sorted(d.items()) \n",
    "        category, value = zip(*items)\n",
    "        plt.bar(category, value, width=0.5, label=names[i])\n",
    "    plt.xlabel('Star Rating')\n",
    "    plt.ylabel('Number of ratings')\n",
    "    plt.legend(loc='best')\n",
    "    plt.show()\n",
    "\n",
    "categorical_plot([\"unfiltered\"], ratings_count)"
   ]
  },
  {
   "cell_type": "markdown",
   "metadata": {},
   "source": [
    "### Task 2\n",
    "Repeat the above question, but generate the distribution (a) only for reviews that are ‘verified,’ and (b) only for reviews that are not verified. Write out the values or generate a plot to show\n",
    "the difference between these distributions."
   ]
  },
  {
   "cell_type": "code",
   "execution_count": 20,
   "metadata": {},
   "outputs": [
    {
     "data": {
      "text/plain": [
       "(defaultdict(int, {5: 118974, 1: 4000, 4: 8940, 2: 1344, 3: 2784}),\n",
       " defaultdict(int, {5: 10735, 4: 919, 3: 372, 1: 793, 2: 225}))"
      ]
     },
     "execution_count": 20,
     "metadata": {},
     "output_type": "execute_result"
    }
   ],
   "source": [
    "ratings_count_verified, ratings_count_notverified = defaultdict(int), defaultdict(int)\n",
    "\n",
    "for d in dataset:\n",
    "    if d['verified_purchase'] == 'Y':\n",
    "        ratings_count_verified[d['star_rating']] += 1\n",
    "    else:\n",
    "        ratings_count_notverified[d['star_rating']] += 1\n",
    "ratings_count_verified, ratings_count_notverified"
   ]
  },
  {
   "cell_type": "code",
   "execution_count": 8,
   "metadata": {},
   "outputs": [
    {
     "data": {
      "image/png": "[encoded data removed]",
      "text/plain": [
       "<Figure size 432x288 with 1 Axes>"
      ]
     },
     "metadata": {
      "needs_background": "light"
     },
     "output_type": "display_data"
    }
   ],
   "source": [
    "categorical_plot([\"verified\", \"not verified\"], ratings_count_verified, ratings_count_notverified)"
   ]
  },
  {
   "cell_type": "markdown",
   "metadata": {},
   "source": [
    "### Task 3\n",
    "Train a simple predictor to predict the star rating using two features.\n",
    "Report the values of θ0, θ1, and θ2. Briefly describe your interpretation of these values, i.e., what do θ0,\n",
    "θ1, and θ2 represent? Explain these in terms of the features and labels, e.g. if the coefficient of ‘review\n",
    "length’ is negative, what would that say about verified versus unverified reviews "
   ]
  },
  {
   "cell_type": "code",
   "execution_count": 65,
   "metadata": {},
   "outputs": [
    {
     "name": "stdout",
     "output_type": "stream",
     "text": [
      "THETA: [ 4.84461817e+00  5.04148265e-02 -1.24659895e-03]\n"
     ]
    },
    {
     "name": "stderr",
     "output_type": "stream",
     "text": [
      "//anaconda3/lib/python3.7/site-packages/ipykernel_launcher.py:7: FutureWarning: `rcond` parameter will change to the default of machine precision times ``max(M, N)`` where M and N are the input matrix dimensions.\n",
      "To use the future default and silence this warning we advise to pass `rcond=None`, to keep using the old, explicitly pass `rcond=-1`.\n",
      "  import sys\n"
     ]
    }
   ],
   "source": [
    "def feature(datum):\n",
    "    return [1, datum['verified_purchase'] == 'Y', len(datum['review_body'])]\n",
    "    \n",
    "    \n",
    "X = [feature(d) for d in dataset]\n",
    "y = [d['star_rating'] for d in dataset]\n",
    "theta,residuals,rank,s = np.linalg.lstsq(X, y)\n",
    "print(\"THETA: {}\".format(theta))"
   ]
  },
  {
   "cell_type": "markdown",
   "metadata": {},
   "source": [
    "$\\theta_0$, $\\theta_1$ and $\\theta_2$ represent the the bias and the two weights respectfully for our line $y = \\theta x + b$ where $\\theta_0$ is the bias b and $\\theta$ is our weight vector consisting of the weights $\\theta_1$ and $\\theta_2$. The bias represents the intercept where the line would intercept the y-axis. So if both $x_1$ and $x_2$ should turn out to be 0 from our feature vector, the linear model would return the bias as the predicted value. \n",
    "\n",
    "Let us say $\\theta = [ 4.8,  5.0, -0.001]$ from the np.linalg.lstsq output. $\\theta_0 = 4.8$ is the bias. $\\theta_1 = 5.0$ which in our case represents the weight for the \"review is verified\" feature and $\\theta_2 = -0.001$ is the weight for the \"review length\" feature. A higher weight value, indicates that it has a higher influence in the analysis than the weights with smaller values. So the fact that review length got a weight value of -0.001 indicates that it does have a big influence on the prediction for the star rating label."
   ]
  },
  {
   "cell_type": "markdown",
   "metadata": {},
   "source": [
    "### Task 4\n",
    "Train another predictor that only uses one feature. Report the values of θ0 and θ1. Note that coefficient you found here might be quite different (i.e., much\n",
    "larger or smaller) than the one from Question 3, even though these coefficients refer to the same feature.\n",
    "Provide an explanation as to why these coefficients might vary so significantly"
   ]
  },
  {
   "cell_type": "code",
   "execution_count": 64,
   "metadata": {},
   "outputs": [
    {
     "name": "stdout",
     "output_type": "stream",
     "text": [
      "THETA: [4.57758356 0.16852426]\n"
     ]
    },
    {
     "name": "stderr",
     "output_type": "stream",
     "text": [
      "//anaconda3/lib/python3.7/site-packages/ipykernel_launcher.py:6: FutureWarning: `rcond` parameter will change to the default of machine precision times ``max(M, N)`` where M and N are the input matrix dimensions.\n",
      "To use the future default and silence this warning we advise to pass `rcond=None`, to keep using the old, explicitly pass `rcond=-1`.\n",
      "  \n"
     ]
    }
   ],
   "source": [
    "def feature(datum):\n",
    "    return [1, datum['verified_purchase'] == 'Y']\n",
    "    \n",
    "X = [feature(d) for d in dataset]\n",
    "y = [d['star_rating'] for d in dataset]\n",
    "theta,residuals,rank,s = np.linalg.lstsq(X, y)\n",
    "print(\"THETA: {}\".format(theta))"
   ]
  },
  {
   "cell_type": "markdown",
   "metadata": {},
   "source": [
    "The results for $\\theta_1$ we got here were significantly smaler than what we got from our last predictor. In this case we removed the feature for the review length, so the only feature that are taking into account now is the \"review is verified\" attraibute. Since this does not have to compensate for the influence that the review length attribute had on the model from last time, the weight value $\\theta_1$ does not has to be that big."
   ]
  },
  {
   "cell_type": "markdown",
   "metadata": {},
   "source": [
    "### Task 5\n",
    "Split the data into two fractions – the first 90% for training, and the remaining 10% testing (based on\n",
    "the order they appear in the file). Train the same model as in Question 4 on the training set only. What\n",
    "is the model’s MSE on the training and on the test set?"
   ]
  },
  {
   "cell_type": "code",
   "execution_count": 61,
   "metadata": {},
   "outputs": [
    {
     "name": "stdout",
     "output_type": "stream",
     "text": [
      "\n",
      " MSE_TRAININGSET: 0.6211834956117749 \n",
      " MSE_TESTSET: 0.9549901115314073\n"
     ]
    },
    {
     "name": "stderr",
     "output_type": "stream",
     "text": [
      "//anaconda3/lib/python3.7/site-packages/ipykernel_launcher.py:8: FutureWarning: `rcond` parameter will change to the default of machine precision times ``max(M, N)`` where M and N are the input matrix dimensions.\n",
      "To use the future default and silence this warning we advise to pass `rcond=None`, to keep using the old, explicitly pass `rcond=-1`.\n",
      "  \n"
     ]
    }
   ],
   "source": [
    "from sklearn.model_selection import train_test_split\n",
    "from sklearn.metrics import mean_squared_error\n",
    "\n",
    "# Split the data into training and testing\n",
    "X_train, X_test, y_train, y_test = train_test_split(X, y, test_size=0.10, shuffle=False)\n",
    "\n",
    "# Fit the model\n",
    "theta,residuals,rank,s = np.linalg.lstsq(X_train, y_train)\n",
    "\n",
    "def predict(X, theta):\n",
    "    return np.dot(X, theta.T)\n",
    "    \n",
    "\n",
    "def mse_train_and_test(theta, data_split):\n",
    "    X_train, X_test, y_train, y_test = data_split\n",
    "    \n",
    "    y_train_pred = predict(X_train, theta)\n",
    "    y_test_pred = predict(X_test, theta)\n",
    "    \n",
    "    mse_train = mean_squared_error(y_train, y_train_pred)\n",
    "    mse_test = mean_squared_error(y_test, y_test_pred)\n",
    "    return mse_train, mse_test\n",
    "\n",
    "mse_train, mse_test = mse_train_and_test(theta, (X_train, X_test, y_train, y_test))\n",
    "print(\"\\n MSE_TRAININGSET: {} \\n MSE_TESTSET: {}\".format(mse_train, mse_test))\n"
   ]
  },
  {
   "cell_type": "markdown",
   "metadata": {},
   "source": [
    "### Task 6\n",
    "Using the test set from Question 5, report the Mean Absolute Error (MAE) and R2\n",
    "coefficient for your predictor (on the test set).\n",
    "\n"
   ]
  },
  {
   "cell_type": "code",
   "execution_count": 86,
   "metadata": {},
   "outputs": [
    {
     "name": "stdout",
     "output_type": "stream",
     "text": [
      "\n",
      " MEAN_ABSOLUTE_ERROR: 0.6255599978988257 \n",
      " R2_COEFFICIENT: 0.028717091886463875\n"
     ]
    }
   ],
   "source": [
    "from sklearn.metrics import mean_absolute_error, explained_variance_score, r2_score\n",
    "y_test_pred = predict(X_test, theta)\n",
    "\n",
    "# Mean Absolute Error\n",
    "mae_test = mean_absolute_error(y_test, y_test_pred)\n",
    "\n",
    "# R^2 Coefficient\n",
    "r2_test = r2_score(y_test, y_test_pred)\n",
    "\n",
    "\n",
    "\n",
    "print(\"\\n MEAN_ABSOLUTE_ERROR: {} \\n R2_COEFFICIENT: {}\".format(mae_test, r2_test))\n"
   ]
  },
  {
   "cell_type": "markdown",
   "metadata": {},
   "source": [
    "### Task 7\n",
    "Repeat the above experiment, varying the size of the training and test fractions between\n",
    "5% and 95% for training (using the complement for testing). Show how the training and test error vary\n",
    "as a function of the training set size (again using a simple plot or table). Does the size of the training\n",
    "set make a significant difference in testing performance? Comment on why it might or might not make\n",
    "a significant difference in this instance "
   ]
  },
  {
   "cell_type": "code",
   "execution_count": 103,
   "metadata": {},
   "outputs": [],
   "source": [
    "traning_errors, test_errors = [], []\n",
    "for train_size in np.arange(0.05, 1, 0.05):\n",
    "    # Split the data\n",
    "    X_train, X_test, y_train, y_test = train_test_split(X, y, test_size=(1-train_size), shuffle=False)\n",
    "    \n",
    "    # Train the model\n",
    "    theta,residuals,rank,s = np.linalg.lstsq(X_train, y_train, rcond=None)\n",
    "    \n",
    "    # Calculate the error\n",
    "    mse_train, mse_test = mse_train_and_test(theta, (X_train, X_test, y_train, y_test))\n",
    "    traning_errors.append(mse_train)\n",
    "    test_errors.append(mse_test) "
   ]
  },
  {
   "cell_type": "code",
   "execution_count": 105,
   "metadata": {},
   "outputs": [
    {
     "data": {
      "image/png": "[encoded data removed]",
      "text/plain": [
       "<Figure size 1080x360 with 1 Axes>"
      ]
     },
     "metadata": {
      "needs_background": "light"
     },
     "output_type": "display_data"
    }
   ],
   "source": [
    "# Plot them to see how the MSE changes as the size of the trnaingdata change\n",
    "plt.figure(figsize=(15,5))\n",
    "plt.plot(train_sizes, traning_errors, label=\"MSE Trainingdata\")\n",
    "plt.plot(train_sizes, test_errors, label=\"MSE Testdata\")\n",
    "plt.xlabel('Traning data size (%)')\n",
    "plt.ylabel('MSE')\n",
    "plt.legend(loc='best')\n",
    "plt.gca().xaxis.grid(True)\n",
    "plt.xticks(train_sizes)\n",
    "plt.show()"
   ]
  },
  {
   "cell_type": "markdown",
   "metadata": {},
   "source": [
    "# !SHOULD ASK A TA ABOUT THE RESULTS HERE!"
   ]
  },
  {
   "cell_type": "markdown",
   "metadata": {},
   "source": [
    "# Classification\n",
    "In this question we’ll alter the prediction from our regression task, so that we are now classifying whether a\n",
    "review is verified. Continue using the 90%/10% training and test sets you constructed previously, i.e., train on\n",
    "the training set and report the error/accuracy on the testing set."
   ]
  },
  {
   "cell_type": "markdown",
   "metadata": {},
   "source": [
    "### Task 8\n",
    "First, let’s train a predictor that estimates whether a review is verified using the rating and the length. Train a logistic regressor to make the above prediction (you may use a logistic regression library with default parameters, e.g. linear model.LogisticRegression() from sklearn). Report the classification accuracy\n",
    "of this predictor. Report also the proportion of labels that are positive (i.e., the proportion of reviews\n",
    "that are verified) and the proportion of predictions that are positive."
   ]
  },
  {
   "cell_type": "code",
   "execution_count": 132,
   "metadata": {},
   "outputs": [],
   "source": [
    "def feature(datum):\n",
    "    return [1, datum['star_rating'], len(datum['review_body'])]\n",
    "\n",
    "# Split the data 90/10\n",
    "X = [feature(d) for d in dataset]\n",
    "y = [d['verified_purchase'] == 'Y' for d in dataset]\n",
    "X_train, X_test, y_train, y_test = train_test_split(X, y, test_size=0.10, shuffle=True)"
   ]
  },
  {
   "cell_type": "code",
   "execution_count": 133,
   "metadata": {},
   "outputs": [
    {
     "data": {
      "text/plain": [
       "LogisticRegression(C=1.0, class_weight=None, dual=False, fit_intercept=True,\n",
       "                   intercept_scaling=1, l1_ratio=None, max_iter=100,\n",
       "                   multi_class='warn', n_jobs=None, penalty='l2',\n",
       "                   random_state=None, solver='lbfgs', tol=0.0001, verbose=0,\n",
       "                   warm_start=False)"
      ]
     },
     "execution_count": 133,
     "metadata": {},
     "output_type": "execute_result"
    }
   ],
   "source": [
    "from sklearn.linear_model import LogisticRegression\n",
    "\n",
    "# Fit the model\n",
    "model = LogisticRegression(solver=\"lbfgs\", fit_intercept=True)\n",
    "model.fit(X_train, y_train)"
   ]
  },
  {
   "cell_type": "code",
   "execution_count": 134,
   "metadata": {},
   "outputs": [
    {
     "name": "stdout",
     "output_type": "stream",
     "text": [
      "\n",
      " Accuracy: 0.9126701992083812 \n",
      " Positive labels: 13637 \n",
      " Positive predictions : 14855\n"
     ]
    }
   ],
   "source": [
    "# Make predictions\n",
    "predictions  = model.predict(X_test)\n",
    "correctPredictions = predictions == y_test\n",
    "accuracy = sum(correctPredictions / len(y_test))\n",
    "positive_labels = sum(y_test)\n",
    "positive_predictions = sum(predictions)\n",
    "print(\"\\n Accuracy: {} \\n Positive labels: {} \\n Positive predictions : {}\".format(accuracy, positive_labels, positive_predictions))"
   ]
  },
  {
   "cell_type": "markdown",
   "metadata": {},
   "source": [
    "So these predictions are not good a t all. It has a accuracy of 55%, which is basically guessing. It seems like the model i predicting that the review is verified almost all the time, since the size of the test data is 14909 and the model is predicting 14895 to be verified."
   ]
  },
  {
   "cell_type": "code",
   "execution_count": 23,
   "metadata": {},
   "outputs": [
    {
     "data": {
      "text/plain": [
       "{'marketplace': 'US',\n",
       " 'customer_id': '24371595',\n",
       " 'review_id': 'R27ZP1F1CD0C3Y',\n",
       " 'product_id': 'B004LLIL5A',\n",
       " 'product_parent': '346014806',\n",
       " 'product_title': 'Amazon eGift Card - Celebrate',\n",
       " 'product_category': 'Gift Card',\n",
       " 'star_rating': 5,\n",
       " 'helpful_votes': '0',\n",
       " 'total_votes': '0',\n",
       " 'vine': 'N',\n",
       " 'verified_purchase': 'Y',\n",
       " 'review_headline': 'Five Stars',\n",
       " 'review_body': 'Great birthday gift for a young adult.',\n",
       " 'review_date': '2015-08-31\\n'}"
      ]
     },
     "execution_count": 23,
     "metadata": {},
     "output_type": "execute_result"
    }
   ],
   "source": [
    "dataset[0]"
   ]
  },
  {
   "cell_type": "markdown",
   "metadata": {},
   "source": [
    "### Task 9\n",
    "Considering same prediction problem as above, can you come up with a more accurate predictor (e.g. using\n",
    "features from the text, timestamp, etc.)? Write down the feature vector you design, and report its\n",
    "train/test accuracy.\n",
    "\n",
    "## ASK TA"
   ]
  },
  {
   "cell_type": "code",
   "execution_count": 144,
   "metadata": {},
   "outputs": [
    {
     "name": "stdout",
     "output_type": "stream",
     "text": [
      "\n",
      " Accuracy trainingset: 0.9125707088398161  \n",
      " Accuracy testset: 0.9119323898316453\n"
     ]
    }
   ],
   "source": [
    "def feature(datum):\n",
    "    date = list(map(int, datum['review_date'].split('-')))\n",
    "    time = 10000 * (date[0]) + 100 * (date[1]) + 1*(date[2])\n",
    "    star_rating_is_5 = int(datum['star_rating']) == 5\n",
    "    long_text = len(datum['review_body']) < 200\n",
    "    return [1, star_rating_is_5, long_text, time]\n",
    "\n",
    "# Split data\n",
    "X = [feature(d) for d in dataset]\n",
    "y = [d['verified_purchase'] == 'Y' for d in dataset]\n",
    "X_train, X_test, y_train, y_test = train_test_split(X, y, test_size=0.10, shuffle=True)\n",
    "\n",
    "l_train, l_test = len(y_train), len(y_test)\n",
    "\n",
    "# Train model\n",
    "model = LogisticRegression(solver='lbfgs', fit_intercept=True)\n",
    "model.fit(X_train, y_train)\n",
    "\n",
    "# Do predictions\n",
    "predictions_train  = model.predict(X_train)\n",
    "predictions_test = model.predict(X_test)\n",
    "\n",
    "correct_predictions_train = predictions_train == y_train\n",
    "correct_predictions_test = predictions_test == y_test\n",
    "\n",
    "accuracy_train = sum(correct_predictions_train) / len(y_train)\n",
    "accuracy_test = sum(correct_predictions_test) / len(y_test)\n",
    "\n",
    "print(\"\\n Accuracy trainingset: {}  \\n Accuracy testset: {}\".format(accuracy_train, accuracy_test))\n"
   ]
  },
  {
   "cell_type": "code",
   "execution_count": 138,
   "metadata": {},
   "outputs": [],
   "source": [
    "# Try to see if there are any words that non-verified user use more often than verfied \n",
    "import re\n",
    "words_v, words_n = defaultdict(int), defaultdict(int)\n",
    "stopwords = open(\"./resources/stopwords.txt\", \"r\").read().split(\"\\n\")\n",
    "\n",
    "for row in dataset:\n",
    "    verified = row['verified_purchase'] == \"Y\"\n",
    "    review = row['review_body'].lower()\n",
    "    \n",
    "    review = re.sub('[:(),!@#$</>.]', '', review)\n",
    "    review = review.split(\" \")\n",
    "    for word in review:\n",
    "        if word not in stopwords and word != \"\":\n",
    "            if verified:\n",
    "                words_v[word] += 1\n",
    "            else:\n",
    "                words_n[word] += 1\n",
    "    \n",
    "    \n",
    "    \n",
    "    \n"
   ]
  },
  {
   "cell_type": "code",
   "execution_count": 126,
   "metadata": {},
   "outputs": [
    {
     "data": {
      "text/plain": [
       "([('gift', 97375),\n",
       "  ('card', 56707),\n",
       "  ('amazon', 37352),\n",
       "  ('easy', 29015),\n",
       "  ('great', 23802),\n",
       "  ('cards', 19844),\n",
       "  ('way', 14875),\n",
       "  ('use', 14118),\n",
       "  ('get', 13516),\n",
       "  ('buy', 12788)],\n",
       " [('gift', 17073),\n",
       "  ('card', 11544),\n",
       "  ('amazon', 8317),\n",
       "  ('easy', 4040),\n",
       "  ('cards', 3790),\n",
       "  ('use', 3576),\n",
       "  ('kindle', 3025),\n",
       "  ('great', 2930),\n",
       "  ('christmas', 2416),\n",
       "  ('love', 2290)])"
      ]
     },
     "execution_count": 126,
     "metadata": {},
     "output_type": "execute_result"
    }
   ],
   "source": [
    "top_verified = sorted(words_v.items(), key=lambda x: x[1], reverse=True)[:10]\n",
    "top_not_verified = sorted(words_n.items(), key=lambda x: x[1], reverse=True)[:10]\n",
    "top_verified, top_not_verified\n"
   ]
  },
  {
   "cell_type": "code",
   "execution_count": null,
   "metadata": {},
   "outputs": [],
   "source": []
  },
  {
   "cell_type": "code",
   "execution_count": null,
   "metadata": {},
   "outputs": [],
   "source": []
  },
  {
   "cell_type": "code",
   "execution_count": null,
   "metadata": {},
   "outputs": [],
   "source": []
  }
 ],
 "metadata": {
  "kernelspec": {
   "display_name": "Python 3",
   "language": "python",
   "name": "python3"
  },
  "language_info": {
   "codemirror_mode": {
    "name": "ipython",
    "version": 3
   },
   "file_extension": ".py",
   "mimetype": "text/x-python",
   "name": "python",
   "nbconvert_exporter": "python",
   "pygments_lexer": "ipython3",
   "version": "3.7.3"
  }
 },
 "nbformat": 4,
 "nbformat_minor": 2
}
