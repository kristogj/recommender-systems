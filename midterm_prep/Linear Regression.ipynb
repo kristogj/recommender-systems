{
 "cells": [
  {
   "cell_type": "markdown",
   "metadata": {},
   "source": [
    "# Linear Regression"
   ]
  },
  {
   "cell_type": "code",
   "execution_count": 144,
   "metadata": {},
   "outputs": [],
   "source": [
    "import numpy as np\n",
    "import matplotlib.pyplot as plt\n",
    "import pandas as pd\n",
    "from sklearn.linear_model import LinearRegression\n",
    "import random\n",
    "np.random.seed(42)"
   ]
  },
  {
   "cell_type": "markdown",
   "metadata": {},
   "source": [
    "## Load the data"
   ]
  },
  {
   "cell_type": "code",
   "execution_count": 192,
   "metadata": {},
   "outputs": [],
   "source": [
    "f = open(\"./data/beer_50000.json\", 'r')\n",
    "data = [eval(line) for line in f]\n",
    "f.close()\n",
    "np.random.shuffle(data)"
   ]
  },
  {
   "cell_type": "code",
   "execution_count": 193,
   "metadata": {},
   "outputs": [],
   "source": [
    "def feature(datum):\n",
    "    ABV = float(datum[\"beer/ABV\"])\n",
    "    return [1, ABV]"
   ]
  },
  {
   "cell_type": "code",
   "execution_count": 194,
   "metadata": {},
   "outputs": [],
   "source": [
    "X = np.array([feature(d) for d in data])\n",
    "y = np.array([[d['review/overall']] for d in data])"
   ]
  },
  {
   "cell_type": "code",
   "execution_count": 195,
   "metadata": {},
   "outputs": [
    {
     "data": {
      "text/plain": [
       "(40000, 5000, 5000)"
      ]
     },
     "execution_count": 195,
     "metadata": {},
     "output_type": "execute_result"
    }
   ],
   "source": [
    "Xtrain = X[:40000]\n",
    "ytrain = y[:40000]\n",
    "Xval = X[40000:45000]\n",
    "yval = y[40000:45000]\n",
    "Xtest = X[45000:]\n",
    "ytest = y[45000:]\n",
    "len(Xtrain), len(Xval), len(Xtest)"
   ]
  },
  {
   "cell_type": "code",
   "execution_count": 205,
   "metadata": {},
   "outputs": [],
   "source": [
    "# Set up a loss function with regularization\n",
    "def MSE(targets, predictions):\n",
    "    return (1/targets.shape[0]) * (targets - predictions).sum()**2 + 0.001*(theta**2).sum()"
   ]
  },
  {
   "cell_type": "code",
   "execution_count": 206,
   "metadata": {},
   "outputs": [
    {
     "name": "stdout",
     "output_type": "stream",
     "text": [
      "Epoch: 1, MSE: 25020.86125640157\n",
      "Epoch: 2, MSE: 18831.810990884187\n",
      "Epoch: 3, MSE: 14110.481965062376\n",
      "Epoch: 4, MSE: 10517.554536950815\n",
      "Epoch: 5, MSE: 7791.148607196088\n",
      "Epoch: 6, MSE: 5729.268725502922\n",
      "Epoch: 7, MSE: 4176.214654854019\n",
      "Epoch: 8, MSE: 3012.0633282167637\n",
      "Epoch: 9, MSE: 2144.5295084258623\n",
      "Epoch: 10, MSE: 1502.668505173686\n",
      "Epoch: 11, MSE: 1032.005215667904\n",
      "Epoch: 12, MSE: 690.7674440270378\n",
      "Epoch: 13, MSE: 446.9740462543298\n",
      "Epoch: 14, MSE: 276.18469121032626\n",
      "Epoch: 15, MSE: 159.7616033620331\n",
      "Epoch: 16, MSE: 83.52741204288897\n",
      "Epoch: 17, MSE: 36.72938453053121\n",
      "Epoch: 18, MSE: 11.240579067253497\n",
      "Epoch: 19, MSE: 0.9441461748204127\n",
      "Epoch: 20, MSE: 1.2591606889722897\n"
     ]
    }
   ],
   "source": [
    "# Initialize random weights\n",
    "theta = np.array([[0.05808361],[0.86617615]])\n",
    "alpha = 0.001\n",
    "epochs = 100\n",
    "training_loss = []\n",
    "validation_loss = []\n",
    "strike = 0\n",
    "for epoch in range(1, epochs):\n",
    "    predictions = Xtrain.dot(theta)\n",
    "    loss = MSE(ytrain, predictions)\n",
    "    training_loss.append(loss)\n",
    "    error = ytrain - predictions\n",
    "    theta += alpha * (2/ytrain.shape[0]) * Xtrain.T.dot(error) + 2*0.001* theta.sum()\n",
    "    \n",
    "    # Validation\n",
    "    predictions_val = Xval.dot(theta)\n",
    "    loss_val = MSE(yval, predictions_val)\n",
    "    \n",
    "    print(\"Epoch: {}, MSE: {}\".format(epoch, loss_val))\n",
    "    \n",
    "    if epoch > 1:\n",
    "        if validation_loss[-1] < loss_val:\n",
    "            validation_loss.append(loss_val)\n",
    "            break\n",
    "        \n",
    "    validation_loss.append(loss_val)\n",
    "    \n",
    "        \n",
    "    \n"
   ]
  },
  {
   "cell_type": "code",
   "execution_count": 207,
   "metadata": {},
   "outputs": [
    {
     "data": {
      "text/plain": [
       "[<matplotlib.lines.Line2D at 0x12a5f42b0>]"
      ]
     },
     "execution_count": 207,
     "metadata": {},
     "output_type": "execute_result"
    },
    {
     "data": {
      "image/png": "[encoded data removed]",
      "text/plain": [
       "<Figure size 432x288 with 1 Axes>"
      ]
     },
     "metadata": {
      "needs_background": "light"
     },
     "output_type": "display_data"
    }
   ],
   "source": [
    "x = np.arange(1, len(validation_loss) + 1, 1)\n",
    "plt.plot(x, training_loss)\n",
    "plt.plot(x, validation_loss)"
   ]
  },
  {
   "cell_type": "code",
   "execution_count": 208,
   "metadata": {},
   "outputs": [
    {
     "data": {
      "text/plain": [
       "0.6962812013988094"
      ]
     },
     "execution_count": 208,
     "metadata": {},
     "output_type": "execute_result"
    }
   ],
   "source": [
    "# Test\n",
    "predictions = Xtest.dot(theta)\n",
    "mse = MSE(ytest, predictions)\n",
    "r2 = 1 - (mse/ytest.var())\n",
    "r2"
   ]
  },
  {
   "cell_type": "code",
   "execution_count": 211,
   "metadata": {},
   "outputs": [
    {
     "data": {
      "text/plain": [
       "[<matplotlib.lines.Line2D at 0x129cf0a90>]"
      ]
     },
     "execution_count": 211,
     "metadata": {},
     "output_type": "execute_result"
    },
    {
     "data": {
      "image/png": "[encoded data removed]",
      "text/plain": [
       "<Figure size 432x288 with 1 Axes>"
      ]
     },
     "metadata": {
      "needs_background": "light"
     },
     "output_type": "display_data"
    }
   ],
   "source": [
    "# Show the line that is made \n",
    "values = [d[1] for d in Xtest if d[1] < 20]\n",
    "maxi = max(values)\n",
    "x = np.arange(0, maxi,0.1)\n",
    "y = [theta[0] + theta[1]*v for v in x]\n",
    "plt.plot(x, y)\n",
    "\n",
    "# Plot all ratings\n",
    "ratings = [d for d in ytest]\n",
    "plt.plot(values, ratings, \"o\")"
   ]
  },
  {
   "cell_type": "code",
   "execution_count": null,
   "metadata": {},
   "outputs": [],
   "source": []
  }
 ],
 "metadata": {
  "kernelspec": {
   "display_name": "Python 3",
   "language": "python",
   "name": "python3"
  },
  "language_info": {
   "codemirror_mode": {
    "name": "ipython",
    "version": 3
   },
   "file_extension": ".py",
   "mimetype": "text/x-python",
   "name": "python",
   "nbconvert_exporter": "python",
   "pygments_lexer": "ipython3",
   "version": "3.6.8"
  }
 },
 "nbformat": 4,
 "nbformat_minor": 2
}
